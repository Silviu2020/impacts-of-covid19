{
 "cells": [
  {
   "cell_type": "code",
   "execution_count": 113,
   "metadata": {},
   "outputs": [],
   "source": [
    "import pandas as pd\n",
    "import numpy as np\n",
    "import matplotlib.pyplot as plt\n",
    "%matplotlib inline\n",
    "import seaborn as sns\n",
    "from scipy import stats\n",
    "import statsmodels.api as sm\n",
    "from datetime import datetime\n",
    "from datetime import timedelta"
   ]
  },
  {
   "cell_type": "code",
   "execution_count": 2,
   "metadata": {},
   "outputs": [
    {
     "data": {
      "text/html": [
       "<div>\n",
       "<style scoped>\n",
       "    .dataframe tbody tr th:only-of-type {\n",
       "        vertical-align: middle;\n",
       "    }\n",
       "\n",
       "    .dataframe tbody tr th {\n",
       "        vertical-align: top;\n",
       "    }\n",
       "\n",
       "    .dataframe thead th {\n",
       "        text-align: right;\n",
       "    }\n",
       "</style>\n",
       "<table border=\"1\" class=\"dataframe\">\n",
       "  <thead>\n",
       "    <tr style=\"text-align: right;\">\n",
       "      <th></th>\n",
       "      <th>adjusted_close_price</th>\n",
       "    </tr>\n",
       "    <tr>\n",
       "      <th>Date</th>\n",
       "      <th></th>\n",
       "    </tr>\n",
       "  </thead>\n",
       "  <tbody>\n",
       "    <tr>\n",
       "      <th>1927-12-30</th>\n",
       "      <td>17.660000</td>\n",
       "    </tr>\n",
       "    <tr>\n",
       "      <th>1928-01-03</th>\n",
       "      <td>17.760000</td>\n",
       "    </tr>\n",
       "    <tr>\n",
       "      <th>1928-01-04</th>\n",
       "      <td>17.719999</td>\n",
       "    </tr>\n",
       "    <tr>\n",
       "      <th>1928-01-05</th>\n",
       "      <td>17.549999</td>\n",
       "    </tr>\n",
       "    <tr>\n",
       "      <th>1928-01-06</th>\n",
       "      <td>17.660000</td>\n",
       "    </tr>\n",
       "  </tbody>\n",
       "</table>\n",
       "</div>"
      ],
      "text/plain": [
       "            adjusted_close_price\n",
       "Date                            \n",
       "1927-12-30             17.660000\n",
       "1928-01-03             17.760000\n",
       "1928-01-04             17.719999\n",
       "1928-01-05             17.549999\n",
       "1928-01-06             17.660000"
      ]
     },
     "execution_count": 2,
     "metadata": {},
     "output_type": "execute_result"
    }
   ],
   "source": [
    "sp500 = pd.read_csv('Data/^GSPC (S&P 500 max).csv', parse_dates=True, index_col='Date')\n",
    "sp500 = sp500.rename(columns={'Adj Close': 'adjusted_close_price'})\n",
    "sp500 = sp500[['adjusted_close_price']]\n",
    "sp500.head()"
   ]
  },
  {
   "cell_type": "code",
   "execution_count": 3,
   "metadata": {},
   "outputs": [
    {
     "data": {
      "text/plain": [
       "(23236, 1)"
      ]
     },
     "execution_count": 3,
     "metadata": {},
     "output_type": "execute_result"
    }
   ],
   "source": [
    "sp500.shape"
   ]
  },
  {
   "cell_type": "code",
   "execution_count": 4,
   "metadata": {},
   "outputs": [
    {
     "name": "stdout",
     "output_type": "stream",
     "text": [
      "<class 'pandas.core.frame.DataFrame'>\n",
      "DatetimeIndex: 23236 entries, 1927-12-30 to 2020-07-02\n",
      "Data columns (total 1 columns):\n",
      " #   Column                Non-Null Count  Dtype  \n",
      "---  ------                --------------  -----  \n",
      " 0   adjusted_close_price  23236 non-null  float64\n",
      "dtypes: float64(1)\n",
      "memory usage: 363.1 KB\n"
     ]
    }
   ],
   "source": [
    "sp500.info()"
   ]
  },
  {
   "cell_type": "code",
   "execution_count": 5,
   "metadata": {},
   "outputs": [
    {
     "data": {
      "text/plain": [
       "adjusted_close_price    0\n",
       "dtype: int64"
      ]
     },
     "execution_count": 5,
     "metadata": {},
     "output_type": "execute_result"
    }
   ],
   "source": [
    "sp500.isna().sum()"
   ]
  },
  {
   "cell_type": "code",
   "execution_count": 6,
   "metadata": {},
   "outputs": [
    {
     "data": {
      "text/html": [
       "<div>\n",
       "<style scoped>\n",
       "    .dataframe tbody tr th:only-of-type {\n",
       "        vertical-align: middle;\n",
       "    }\n",
       "\n",
       "    .dataframe tbody tr th {\n",
       "        vertical-align: top;\n",
       "    }\n",
       "\n",
       "    .dataframe thead th {\n",
       "        text-align: right;\n",
       "    }\n",
       "</style>\n",
       "<table border=\"1\" class=\"dataframe\">\n",
       "  <thead>\n",
       "    <tr style=\"text-align: right;\">\n",
       "      <th></th>\n",
       "      <th>adjusted_close_price</th>\n",
       "    </tr>\n",
       "  </thead>\n",
       "  <tbody>\n",
       "    <tr>\n",
       "      <th>count</th>\n",
       "      <td>23236.000000</td>\n",
       "    </tr>\n",
       "    <tr>\n",
       "      <th>mean</th>\n",
       "      <td>476.194040</td>\n",
       "    </tr>\n",
       "    <tr>\n",
       "      <th>std</th>\n",
       "      <td>706.104550</td>\n",
       "    </tr>\n",
       "    <tr>\n",
       "      <th>min</th>\n",
       "      <td>4.400000</td>\n",
       "    </tr>\n",
       "    <tr>\n",
       "      <th>25%</th>\n",
       "      <td>23.780001</td>\n",
       "    </tr>\n",
       "    <tr>\n",
       "      <th>50%</th>\n",
       "      <td>99.279999</td>\n",
       "    </tr>\n",
       "    <tr>\n",
       "      <th>75%</th>\n",
       "      <td>802.777512</td>\n",
       "    </tr>\n",
       "    <tr>\n",
       "      <th>max</th>\n",
       "      <td>3386.149902</td>\n",
       "    </tr>\n",
       "  </tbody>\n",
       "</table>\n",
       "</div>"
      ],
      "text/plain": [
       "       adjusted_close_price\n",
       "count          23236.000000\n",
       "mean             476.194040\n",
       "std              706.104550\n",
       "min                4.400000\n",
       "25%               23.780001\n",
       "50%               99.279999\n",
       "75%              802.777512\n",
       "max             3386.149902"
      ]
     },
     "execution_count": 6,
     "metadata": {},
     "output_type": "execute_result"
    }
   ],
   "source": [
    "sp500.describe()"
   ]
  },
  {
   "cell_type": "code",
   "execution_count": 7,
   "metadata": {},
   "outputs": [],
   "source": [
    "sp500 = sp500.assign(price_pct_change=sp500.pct_change())"
   ]
  },
  {
   "cell_type": "code",
   "execution_count": 8,
   "metadata": {},
   "outputs": [
    {
     "data": {
      "text/html": [
       "<div>\n",
       "<style scoped>\n",
       "    .dataframe tbody tr th:only-of-type {\n",
       "        vertical-align: middle;\n",
       "    }\n",
       "\n",
       "    .dataframe tbody tr th {\n",
       "        vertical-align: top;\n",
       "    }\n",
       "\n",
       "    .dataframe thead th {\n",
       "        text-align: right;\n",
       "    }\n",
       "</style>\n",
       "<table border=\"1\" class=\"dataframe\">\n",
       "  <thead>\n",
       "    <tr style=\"text-align: right;\">\n",
       "      <th></th>\n",
       "      <th>adjusted_close_price</th>\n",
       "      <th>price_pct_change</th>\n",
       "    </tr>\n",
       "    <tr>\n",
       "      <th>Date</th>\n",
       "      <th></th>\n",
       "      <th></th>\n",
       "    </tr>\n",
       "  </thead>\n",
       "  <tbody>\n",
       "    <tr>\n",
       "      <th>1927-12-30</th>\n",
       "      <td>17.660000</td>\n",
       "      <td>NaN</td>\n",
       "    </tr>\n",
       "    <tr>\n",
       "      <th>1928-01-03</th>\n",
       "      <td>17.760000</td>\n",
       "      <td>0.005663</td>\n",
       "    </tr>\n",
       "    <tr>\n",
       "      <th>1928-01-04</th>\n",
       "      <td>17.719999</td>\n",
       "      <td>-0.002252</td>\n",
       "    </tr>\n",
       "    <tr>\n",
       "      <th>1928-01-05</th>\n",
       "      <td>17.549999</td>\n",
       "      <td>-0.009594</td>\n",
       "    </tr>\n",
       "    <tr>\n",
       "      <th>1928-01-06</th>\n",
       "      <td>17.660000</td>\n",
       "      <td>0.006268</td>\n",
       "    </tr>\n",
       "  </tbody>\n",
       "</table>\n",
       "</div>"
      ],
      "text/plain": [
       "            adjusted_close_price  price_pct_change\n",
       "Date                                              \n",
       "1927-12-30             17.660000               NaN\n",
       "1928-01-03             17.760000          0.005663\n",
       "1928-01-04             17.719999         -0.002252\n",
       "1928-01-05             17.549999         -0.009594\n",
       "1928-01-06             17.660000          0.006268"
      ]
     },
     "execution_count": 8,
     "metadata": {},
     "output_type": "execute_result"
    }
   ],
   "source": [
    "sp500.head()"
   ]
  },
  {
   "cell_type": "code",
   "execution_count": 9,
   "metadata": {},
   "outputs": [
    {
     "data": {
      "image/png": "[encoded data removed]",
      "text/plain": [
       "<Figure size 1080x720 with 2 Axes>"
      ]
     },
     "metadata": {
      "needs_background": "light"
     },
     "output_type": "display_data"
    }
   ],
   "source": [
    "sp500.plot(subplots=True, figsize=(15,10));"
   ]
  },
  {
   "cell_type": "markdown",
   "metadata": {},
   "source": [
    "## The dot.com crash"
   ]
  },
  {
   "cell_type": "markdown",
   "metadata": {},
   "source": [
    "### Start date (has to be added manually)"
   ]
  },
  {
   "cell_type": "code",
   "execution_count": 10,
   "metadata": {},
   "outputs": [],
   "source": [
    "start_date = '2000-03-27'"
   ]
  },
  {
   "cell_type": "markdown",
   "metadata": {},
   "source": [
    "### Start price"
   ]
  },
  {
   "cell_type": "code",
   "execution_count": 11,
   "metadata": {},
   "outputs": [
    {
     "data": {
      "text/plain": [
       "1523.859985"
      ]
     },
     "execution_count": 11,
     "metadata": {},
     "output_type": "execute_result"
    }
   ],
   "source": [
    "start_price = sp500.loc[start_date]['adjusted_close_price']\n",
    "start_price"
   ]
  },
  {
   "cell_type": "markdown",
   "metadata": {},
   "source": [
    "### End date"
   ]
  },
  {
   "cell_type": "code",
   "execution_count": 12,
   "metadata": {},
   "outputs": [
    {
     "name": "stderr",
     "output_type": "stream",
     "text": [
      "<ipython-input-12-6cd7dd5f5aac>:1: UserWarning: Boolean Series key will be reindexed to match DataFrame index.\n",
      "  end = sp500.loc[start_date:][sp500['adjusted_close_price'] > start_price].reset_index().head(1)\n"
     ]
    },
    {
     "data": {
      "text/plain": [
       "'2007-05-21'"
      ]
     },
     "execution_count": 12,
     "metadata": {},
     "output_type": "execute_result"
    }
   ],
   "source": [
    "end = sp500.loc[start_date:][sp500['adjusted_close_price'] > start_price].reset_index().head(1)\n",
    "end_date = end['Date'].dt.strftime('%Y-%m-%d')\n",
    "end_date = end_date[0]\n",
    "end_date"
   ]
  },
  {
   "cell_type": "markdown",
   "metadata": {},
   "source": [
    "### End price"
   ]
  },
  {
   "cell_type": "code",
   "execution_count": 13,
   "metadata": {},
   "outputs": [
    {
     "data": {
      "text/plain": [
       "1525.099976"
      ]
     },
     "execution_count": 13,
     "metadata": {},
     "output_type": "execute_result"
    }
   ],
   "source": [
    "end_price = end.iloc[0]['adjusted_close_price']\n",
    "end_price"
   ]
  },
  {
   "cell_type": "markdown",
   "metadata": {},
   "source": [
    "### Days of recovery"
   ]
  },
  {
   "cell_type": "code",
   "execution_count": 14,
   "metadata": {},
   "outputs": [],
   "source": [
    "timeframe = pd.to_datetime(end_date) - pd.to_datetime(start_date)\n",
    "days_of_recovery = timeframe / np.timedelta64(1, 'D')"
   ]
  },
  {
   "cell_type": "code",
   "execution_count": 15,
   "metadata": {},
   "outputs": [
    {
     "data": {
      "text/plain": [
       "2611.0"
      ]
     },
     "execution_count": 15,
     "metadata": {},
     "output_type": "execute_result"
    }
   ],
   "source": [
    "days_of_recovery"
   ]
  },
  {
   "cell_type": "markdown",
   "metadata": {},
   "source": [
    "### Months of recovery"
   ]
  },
  {
   "cell_type": "code",
   "execution_count": 16,
   "metadata": {},
   "outputs": [],
   "source": [
    "months_of_recovery = timeframe / np.timedelta64(1, 'M')"
   ]
  },
  {
   "cell_type": "code",
   "execution_count": 17,
   "metadata": {},
   "outputs": [
    {
     "data": {
      "text/plain": [
       "85.78410234296392"
      ]
     },
     "execution_count": 17,
     "metadata": {},
     "output_type": "execute_result"
    }
   ],
   "source": [
    "months_of_recovery"
   ]
  },
  {
   "cell_type": "markdown",
   "metadata": {},
   "source": [
    "### Years of recovery"
   ]
  },
  {
   "cell_type": "code",
   "execution_count": 18,
   "metadata": {},
   "outputs": [],
   "source": [
    "years_of_recovery = timeframe / np.timedelta64(1, 'Y')"
   ]
  },
  {
   "cell_type": "code",
   "execution_count": 19,
   "metadata": {},
   "outputs": [
    {
     "data": {
      "text/plain": [
       "7.148675195246994"
      ]
     },
     "execution_count": 19,
     "metadata": {},
     "output_type": "execute_result"
    }
   ],
   "source": [
    "years_of_recovery"
   ]
  },
  {
   "cell_type": "markdown",
   "metadata": {},
   "source": [
    "### Lowest price between end date and start date"
   ]
  },
  {
   "cell_type": "code",
   "execution_count": 20,
   "metadata": {},
   "outputs": [
    {
     "data": {
      "text/plain": [
       "776.76001"
      ]
     },
     "execution_count": 20,
     "metadata": {},
     "output_type": "execute_result"
    }
   ],
   "source": [
    "lowest_price = sp500[start_date:end_date].min()['adjusted_close_price']\n",
    "lowest_price"
   ]
  },
  {
   "cell_type": "markdown",
   "metadata": {},
   "source": [
    "### Lowest date"
   ]
  },
  {
   "cell_type": "code",
   "execution_count": 21,
   "metadata": {},
   "outputs": [
    {
     "data": {
      "text/html": [
       "<div>\n",
       "<style scoped>\n",
       "    .dataframe tbody tr th:only-of-type {\n",
       "        vertical-align: middle;\n",
       "    }\n",
       "\n",
       "    .dataframe tbody tr th {\n",
       "        vertical-align: top;\n",
       "    }\n",
       "\n",
       "    .dataframe thead th {\n",
       "        text-align: right;\n",
       "    }\n",
       "</style>\n",
       "<table border=\"1\" class=\"dataframe\">\n",
       "  <thead>\n",
       "    <tr style=\"text-align: right;\">\n",
       "      <th></th>\n",
       "      <th>adjusted_close_price</th>\n",
       "      <th>price_pct_change</th>\n",
       "    </tr>\n",
       "    <tr>\n",
       "      <th>Date</th>\n",
       "      <th></th>\n",
       "      <th></th>\n",
       "    </tr>\n",
       "  </thead>\n",
       "  <tbody>\n",
       "    <tr>\n",
       "      <th>1927-12-30</th>\n",
       "      <td>17.660000</td>\n",
       "      <td>NaN</td>\n",
       "    </tr>\n",
       "    <tr>\n",
       "      <th>1928-01-03</th>\n",
       "      <td>17.760000</td>\n",
       "      <td>0.005663</td>\n",
       "    </tr>\n",
       "    <tr>\n",
       "      <th>1928-01-04</th>\n",
       "      <td>17.719999</td>\n",
       "      <td>-0.002252</td>\n",
       "    </tr>\n",
       "    <tr>\n",
       "      <th>1928-01-05</th>\n",
       "      <td>17.549999</td>\n",
       "      <td>-0.009594</td>\n",
       "    </tr>\n",
       "    <tr>\n",
       "      <th>1928-01-06</th>\n",
       "      <td>17.660000</td>\n",
       "      <td>0.006268</td>\n",
       "    </tr>\n",
       "  </tbody>\n",
       "</table>\n",
       "</div>"
      ],
      "text/plain": [
       "            adjusted_close_price  price_pct_change\n",
       "Date                                              \n",
       "1927-12-30             17.660000               NaN\n",
       "1928-01-03             17.760000          0.005663\n",
       "1928-01-04             17.719999         -0.002252\n",
       "1928-01-05             17.549999         -0.009594\n",
       "1928-01-06             17.660000          0.006268"
      ]
     },
     "execution_count": 21,
     "metadata": {},
     "output_type": "execute_result"
    }
   ],
   "source": [
    "sp500.head()"
   ]
  },
  {
   "cell_type": "code",
   "execution_count": 22,
   "metadata": {},
   "outputs": [
    {
     "name": "stderr",
     "output_type": "stream",
     "text": [
      "<ipython-input-22-045d65ff95a4>:1: UserWarning: Boolean Series key will be reindexed to match DataFrame index.\n",
      "  lowest_date = sp500[start_date:end_date][sp500['adjusted_close_price'] == lowest_price]\n"
     ]
    },
    {
     "data": {
      "text/plain": [
       "'2002-10-09'"
      ]
     },
     "execution_count": 22,
     "metadata": {},
     "output_type": "execute_result"
    }
   ],
   "source": [
    "lowest_date = sp500[start_date:end_date][sp500['adjusted_close_price'] == lowest_price]\n",
    "lowest_date = lowest_date.reset_index()\n",
    "lowest_date = lowest_date['Date'].dt.strftime('%Y-%m-%d')[0]\n",
    "lowest_date"
   ]
  },
  {
   "cell_type": "markdown",
   "metadata": {},
   "source": [
    "### Percentage lossbetween start price and lowest price"
   ]
  },
  {
   "cell_type": "code",
   "execution_count": 23,
   "metadata": {},
   "outputs": [
    {
     "data": {
      "text/plain": [
       "-0.49026812328824293"
      ]
     },
     "execution_count": 23,
     "metadata": {},
     "output_type": "execute_result"
    }
   ],
   "source": [
    "pct_loss = (lowest_price - start_price) / start_price\n",
    "pct_loss"
   ]
  },
  {
   "cell_type": "markdown",
   "metadata": {},
   "source": [
    "### Plot"
   ]
  },
  {
   "cell_type": "code",
   "execution_count": 24,
   "metadata": {},
   "outputs": [
    {
     "data": {
      "image/png": "[encoded data removed]",
      "text/plain": [
       "<Figure size 1080x720 with 1 Axes>"
      ]
     },
     "metadata": {
      "needs_background": "light"
     },
     "output_type": "display_data"
    }
   ],
   "source": [
    "plot_periode = sp500[start_date[0:4]:end_date[0:4]]\n",
    "plot = plot_periode['adjusted_close_price'].plot(kind='line', figsize=(15,10))\n",
    "plot.axvline(start_date, color='darkgrey')\n",
    "plot.axvline(lowest_date, color='r')\n",
    "plot.axvline(end_date, color='g')\n",
    "plot.axhline(start_price, color='g')\n",
    "plot.axhline(lowest_price, color='r')\n",
    "plt.ylabel('Adjusted Close Price')\n",
    "plt.title(f'S&P 500 between {start_date[0:4]} and {end_date[0:4]}');"
   ]
  },
  {
   "cell_type": "code",
   "execution_count": 25,
   "metadata": {},
   "outputs": [],
   "source": [
    "dictionary = {'year': start_date[0:4], \n",
    "              'start_date': start_date,\n",
    "              'lowest_date': lowest_date,\n",
    "              'end_date': end_date,\n",
    "              'start_price': start_price,\n",
    "              'lowest_price': lowest_price,\n",
    "              'end_price': end_price,\n",
    "              'days_of_recovery': days_of_recovery,\n",
    "              'months_of_recovery': months_of_recovery,\n",
    "              'years_of_recovery': years_of_recovery,\n",
    "              'percentage_loss': pct_loss}"
   ]
  },
  {
   "cell_type": "code",
   "execution_count": 26,
   "metadata": {},
   "outputs": [
    {
     "data": {
      "text/plain": [
       "{'year': '2000',\n",
       " 'start_date': '2000-03-27',\n",
       " 'lowest_date': '2002-10-09',\n",
       " 'end_date': '2007-05-21',\n",
       " 'start_price': 1523.859985,\n",
       " 'lowest_price': 776.76001,\n",
       " 'end_price': 1525.099976,\n",
       " 'days_of_recovery': 2611.0,\n",
       " 'months_of_recovery': 85.78410234296392,\n",
       " 'years_of_recovery': 7.148675195246994,\n",
       " 'percentage_loss': -0.49026812328824293}"
      ]
     },
     "execution_count": 26,
     "metadata": {},
     "output_type": "execute_result"
    }
   ],
   "source": [
    "dictionary"
   ]
  },
  {
   "cell_type": "code",
   "execution_count": 27,
   "metadata": {},
   "outputs": [
    {
     "data": {
      "text/html": [
       "<div>\n",
       "<style scoped>\n",
       "    .dataframe tbody tr th:only-of-type {\n",
       "        vertical-align: middle;\n",
       "    }\n",
       "\n",
       "    .dataframe tbody tr th {\n",
       "        vertical-align: top;\n",
       "    }\n",
       "\n",
       "    .dataframe thead th {\n",
       "        text-align: right;\n",
       "    }\n",
       "</style>\n",
       "<table border=\"1\" class=\"dataframe\">\n",
       "  <thead>\n",
       "    <tr style=\"text-align: right;\">\n",
       "      <th></th>\n",
       "      <th>year</th>\n",
       "      <th>start_date</th>\n",
       "      <th>lowest_date</th>\n",
       "      <th>end_date</th>\n",
       "      <th>start_price</th>\n",
       "      <th>lowest_price</th>\n",
       "      <th>end_price</th>\n",
       "      <th>days_of_recovery</th>\n",
       "      <th>months_of_recovery</th>\n",
       "      <th>years_of_recovery</th>\n",
       "      <th>percentage_loss</th>\n",
       "    </tr>\n",
       "  </thead>\n",
       "  <tbody>\n",
       "    <tr>\n",
       "      <th>0</th>\n",
       "      <td>2000</td>\n",
       "      <td>2000-03-27</td>\n",
       "      <td>2002-10-09</td>\n",
       "      <td>2007-05-21</td>\n",
       "      <td>1523.859985</td>\n",
       "      <td>776.76001</td>\n",
       "      <td>1525.099976</td>\n",
       "      <td>2611.0</td>\n",
       "      <td>85.784102</td>\n",
       "      <td>7.148675</td>\n",
       "      <td>-0.490268</td>\n",
       "    </tr>\n",
       "  </tbody>\n",
       "</table>\n",
       "</div>"
      ],
      "text/plain": [
       "   year  start_date lowest_date    end_date  start_price  lowest_price  \\\n",
       "0  2000  2000-03-27  2002-10-09  2007-05-21  1523.859985     776.76001   \n",
       "\n",
       "     end_price  days_of_recovery  months_of_recovery  years_of_recovery  \\\n",
       "0  1525.099976            2611.0           85.784102           7.148675   \n",
       "\n",
       "   percentage_loss  \n",
       "0        -0.490268  "
      ]
     },
     "execution_count": 27,
     "metadata": {},
     "output_type": "execute_result"
    }
   ],
   "source": [
    "df = pd.DataFrame([dictionary])\n",
    "df"
   ]
  },
  {
   "cell_type": "code",
   "execution_count": 28,
   "metadata": {},
   "outputs": [],
   "source": [
    "df2 = pd.DataFrame([dictionary])"
   ]
  },
  {
   "cell_type": "code",
   "execution_count": 29,
   "metadata": {},
   "outputs": [
    {
     "data": {
      "text/html": [
       "<div>\n",
       "<style scoped>\n",
       "    .dataframe tbody tr th:only-of-type {\n",
       "        vertical-align: middle;\n",
       "    }\n",
       "\n",
       "    .dataframe tbody tr th {\n",
       "        vertical-align: top;\n",
       "    }\n",
       "\n",
       "    .dataframe thead th {\n",
       "        text-align: right;\n",
       "    }\n",
       "</style>\n",
       "<table border=\"1\" class=\"dataframe\">\n",
       "  <thead>\n",
       "    <tr style=\"text-align: right;\">\n",
       "      <th></th>\n",
       "      <th>year</th>\n",
       "      <th>start_date</th>\n",
       "      <th>lowest_date</th>\n",
       "      <th>end_date</th>\n",
       "      <th>start_price</th>\n",
       "      <th>lowest_price</th>\n",
       "      <th>end_price</th>\n",
       "      <th>days_of_recovery</th>\n",
       "      <th>months_of_recovery</th>\n",
       "      <th>years_of_recovery</th>\n",
       "      <th>percentage_loss</th>\n",
       "    </tr>\n",
       "  </thead>\n",
       "  <tbody>\n",
       "    <tr>\n",
       "      <th>0</th>\n",
       "      <td>2000</td>\n",
       "      <td>2000-03-27</td>\n",
       "      <td>2002-10-09</td>\n",
       "      <td>2007-05-21</td>\n",
       "      <td>1523.859985</td>\n",
       "      <td>776.76001</td>\n",
       "      <td>1525.099976</td>\n",
       "      <td>2611.0</td>\n",
       "      <td>85.784102</td>\n",
       "      <td>7.148675</td>\n",
       "      <td>-0.490268</td>\n",
       "    </tr>\n",
       "  </tbody>\n",
       "</table>\n",
       "</div>"
      ],
      "text/plain": [
       "   year  start_date lowest_date    end_date  start_price  lowest_price  \\\n",
       "0  2000  2000-03-27  2002-10-09  2007-05-21  1523.859985     776.76001   \n",
       "\n",
       "     end_price  days_of_recovery  months_of_recovery  years_of_recovery  \\\n",
       "0  1525.099976            2611.0           85.784102           7.148675   \n",
       "\n",
       "   percentage_loss  \n",
       "0        -0.490268  "
      ]
     },
     "execution_count": 29,
     "metadata": {},
     "output_type": "execute_result"
    }
   ],
   "source": [
    "df2"
   ]
  },
  {
   "cell_type": "code",
   "execution_count": 30,
   "metadata": {},
   "outputs": [],
   "source": [
    "df3 = pd.concat([df, df2]).reset_index(drop=True)"
   ]
  },
  {
   "cell_type": "code",
   "execution_count": 31,
   "metadata": {},
   "outputs": [
    {
     "data": {
      "text/html": [
       "<div>\n",
       "<style scoped>\n",
       "    .dataframe tbody tr th:only-of-type {\n",
       "        vertical-align: middle;\n",
       "    }\n",
       "\n",
       "    .dataframe tbody tr th {\n",
       "        vertical-align: top;\n",
       "    }\n",
       "\n",
       "    .dataframe thead th {\n",
       "        text-align: right;\n",
       "    }\n",
       "</style>\n",
       "<table border=\"1\" class=\"dataframe\">\n",
       "  <thead>\n",
       "    <tr style=\"text-align: right;\">\n",
       "      <th></th>\n",
       "      <th>year</th>\n",
       "      <th>start_date</th>\n",
       "      <th>lowest_date</th>\n",
       "      <th>end_date</th>\n",
       "      <th>start_price</th>\n",
       "      <th>lowest_price</th>\n",
       "      <th>end_price</th>\n",
       "      <th>days_of_recovery</th>\n",
       "      <th>months_of_recovery</th>\n",
       "      <th>years_of_recovery</th>\n",
       "      <th>percentage_loss</th>\n",
       "    </tr>\n",
       "  </thead>\n",
       "  <tbody>\n",
       "    <tr>\n",
       "      <th>0</th>\n",
       "      <td>2000</td>\n",
       "      <td>2000-03-27</td>\n",
       "      <td>2002-10-09</td>\n",
       "      <td>2007-05-21</td>\n",
       "      <td>1523.859985</td>\n",
       "      <td>776.76001</td>\n",
       "      <td>1525.099976</td>\n",
       "      <td>2611.0</td>\n",
       "      <td>85.784102</td>\n",
       "      <td>7.148675</td>\n",
       "      <td>-0.490268</td>\n",
       "    </tr>\n",
       "    <tr>\n",
       "      <th>1</th>\n",
       "      <td>2000</td>\n",
       "      <td>2000-03-27</td>\n",
       "      <td>2002-10-09</td>\n",
       "      <td>2007-05-21</td>\n",
       "      <td>1523.859985</td>\n",
       "      <td>776.76001</td>\n",
       "      <td>1525.099976</td>\n",
       "      <td>2611.0</td>\n",
       "      <td>85.784102</td>\n",
       "      <td>7.148675</td>\n",
       "      <td>-0.490268</td>\n",
       "    </tr>\n",
       "  </tbody>\n",
       "</table>\n",
       "</div>"
      ],
      "text/plain": [
       "   year  start_date lowest_date    end_date  start_price  lowest_price  \\\n",
       "0  2000  2000-03-27  2002-10-09  2007-05-21  1523.859985     776.76001   \n",
       "1  2000  2000-03-27  2002-10-09  2007-05-21  1523.859985     776.76001   \n",
       "\n",
       "     end_price  days_of_recovery  months_of_recovery  years_of_recovery  \\\n",
       "0  1525.099976            2611.0           85.784102           7.148675   \n",
       "1  1525.099976            2611.0           85.784102           7.148675   \n",
       "\n",
       "   percentage_loss  \n",
       "0        -0.490268  \n",
       "1        -0.490268  "
      ]
     },
     "execution_count": 31,
     "metadata": {},
     "output_type": "execute_result"
    }
   ],
   "source": [
    "df3"
   ]
  },
  {
   "cell_type": "code",
   "execution_count": 32,
   "metadata": {},
   "outputs": [
    {
     "data": {
      "text/html": [
       "<div>\n",
       "<style scoped>\n",
       "    .dataframe tbody tr th:only-of-type {\n",
       "        vertical-align: middle;\n",
       "    }\n",
       "\n",
       "    .dataframe tbody tr th {\n",
       "        vertical-align: top;\n",
       "    }\n",
       "\n",
       "    .dataframe thead th {\n",
       "        text-align: right;\n",
       "    }\n",
       "</style>\n",
       "<table border=\"1\" class=\"dataframe\">\n",
       "  <thead>\n",
       "    <tr style=\"text-align: right;\">\n",
       "      <th></th>\n",
       "      <th>Open</th>\n",
       "      <th>High</th>\n",
       "      <th>Low</th>\n",
       "      <th>Close</th>\n",
       "      <th>Adj Close</th>\n",
       "      <th>Volume</th>\n",
       "    </tr>\n",
       "    <tr>\n",
       "      <th>Date</th>\n",
       "      <th></th>\n",
       "      <th></th>\n",
       "      <th></th>\n",
       "      <th></th>\n",
       "      <th></th>\n",
       "      <th></th>\n",
       "    </tr>\n",
       "  </thead>\n",
       "  <tbody>\n",
       "    <tr>\n",
       "      <th>1927-12-30</th>\n",
       "      <td>17.660000</td>\n",
       "      <td>17.660000</td>\n",
       "      <td>17.660000</td>\n",
       "      <td>17.660000</td>\n",
       "      <td>17.660000</td>\n",
       "      <td>0</td>\n",
       "    </tr>\n",
       "    <tr>\n",
       "      <th>1928-01-03</th>\n",
       "      <td>17.760000</td>\n",
       "      <td>17.760000</td>\n",
       "      <td>17.760000</td>\n",
       "      <td>17.760000</td>\n",
       "      <td>17.760000</td>\n",
       "      <td>0</td>\n",
       "    </tr>\n",
       "    <tr>\n",
       "      <th>1928-01-04</th>\n",
       "      <td>17.719999</td>\n",
       "      <td>17.719999</td>\n",
       "      <td>17.719999</td>\n",
       "      <td>17.719999</td>\n",
       "      <td>17.719999</td>\n",
       "      <td>0</td>\n",
       "    </tr>\n",
       "    <tr>\n",
       "      <th>1928-01-05</th>\n",
       "      <td>17.549999</td>\n",
       "      <td>17.549999</td>\n",
       "      <td>17.549999</td>\n",
       "      <td>17.549999</td>\n",
       "      <td>17.549999</td>\n",
       "      <td>0</td>\n",
       "    </tr>\n",
       "    <tr>\n",
       "      <th>1928-01-06</th>\n",
       "      <td>17.660000</td>\n",
       "      <td>17.660000</td>\n",
       "      <td>17.660000</td>\n",
       "      <td>17.660000</td>\n",
       "      <td>17.660000</td>\n",
       "      <td>0</td>\n",
       "    </tr>\n",
       "  </tbody>\n",
       "</table>\n",
       "</div>"
      ],
      "text/plain": [
       "                 Open       High        Low      Close  Adj Close  Volume\n",
       "Date                                                                     \n",
       "1927-12-30  17.660000  17.660000  17.660000  17.660000  17.660000       0\n",
       "1928-01-03  17.760000  17.760000  17.760000  17.760000  17.760000       0\n",
       "1928-01-04  17.719999  17.719999  17.719999  17.719999  17.719999       0\n",
       "1928-01-05  17.549999  17.549999  17.549999  17.549999  17.549999       0\n",
       "1928-01-06  17.660000  17.660000  17.660000  17.660000  17.660000       0"
      ]
     },
     "execution_count": 32,
     "metadata": {},
     "output_type": "execute_result"
    }
   ],
   "source": [
    "sp500 = pd.read_csv('Data/^GSPC (S&P 500 max).csv', parse_dates=True, index_col='Date')\n",
    "sp500.head()"
   ]
  },
  {
   "cell_type": "code",
   "execution_count": 33,
   "metadata": {},
   "outputs": [],
   "source": [
    "#start_date = '2000-03-27'"
   ]
  },
  {
   "cell_type": "code",
   "execution_count": 34,
   "metadata": {},
   "outputs": [],
   "source": [
    "def create_df(start_date, column):\n",
    "    start_price = sp500.loc[start_date][column]\n",
    "    \n",
    "    end = sp500.loc[start_date:][sp500[column] > start_price].reset_index().head(1)\n",
    "    end_date = end['Date'].dt.strftime('%Y-%m-%d')\n",
    "    end_date = end_date[0]\n",
    "\n",
    "    end_price = end.iloc[0][column]\n",
    "    \n",
    "    timeframe = pd.to_datetime(end_date) - pd.to_datetime(start_date)\n",
    "    days_of_recovery = timeframe / np.timedelta64(1, 'D')\n",
    "    months_of_recovery = timeframe / np.timedelta64(1, 'M')\n",
    "    years_of_recovery = timeframe / np.timedelta64(1, 'Y')\n",
    "    \n",
    "    lowest_price = sp500[start_date:end_date].min()[column]\n",
    "    \n",
    "    lowest_date = sp500[start_date:end_date][sp500[column] == lowest_price]\n",
    "    lowest_date = lowest_date.reset_index()\n",
    "    lowest_date = lowest_date['Date'].dt.strftime('%Y-%m-%d')[0]\n",
    "    \n",
    "    abs_pct_loss = abs((lowest_price - start_price) / start_price)\n",
    "    \n",
    "    dictionary = {'year': start_date[0:4], \n",
    "              'start_date': start_date,\n",
    "              'lowest_date': lowest_date,\n",
    "              'end_date': end_date,\n",
    "              'start_price': start_price,\n",
    "              'lowest_price': lowest_price,\n",
    "              'end_price': end_price,\n",
    "              'days_of_recovery': days_of_recovery,\n",
    "              'months_of_recovery': months_of_recovery,\n",
    "              'years_of_recovery': years_of_recovery,\n",
    "              'abs_percentage_loss': abs_pct_loss}\n",
    "    \n",
    "    df = pd.DataFrame([dictionary])\n",
    "    return df"
   ]
  },
  {
   "cell_type": "code",
   "execution_count": 35,
   "metadata": {},
   "outputs": [],
   "source": [
    "def create_plot(start_date, column):\n",
    "    start_price = sp500.loc[start_date][column]\n",
    "    \n",
    "    end = sp500.loc[start_date:][sp500[column] > start_price].reset_index().head(1)\n",
    "    end_date = end['Date'].dt.strftime('%Y-%m-%d')\n",
    "    end_date = end_date[0]\n",
    "\n",
    "    end_price = end.iloc[0][column]\n",
    "    \n",
    "    timeframe = pd.to_datetime(end_date) - pd.to_datetime(start_date)\n",
    "    days_of_recovery = timeframe / np.timedelta64(1, 'D')\n",
    "    months_of_recovery = timeframe / np.timedelta64(1, 'M')\n",
    "    years_of_recovery = timeframe / np.timedelta64(1, 'Y')\n",
    "    \n",
    "    lowest_price = sp500[start_date:end_date].min()[column]\n",
    "    \n",
    "    lowest_date = sp500[start_date:end_date][sp500[column] == lowest_price]\n",
    "    lowest_date = lowest_date.reset_index()\n",
    "    lowest_date = lowest_date['Date'].dt.strftime('%Y-%m-%d')[0]\n",
    "    \n",
    "    plot_periode = sp500[start_date[0:4]:end_date[0:4]]\n",
    "    plot = plot_periode[column].plot(kind='line', figsize=(15,10))\n",
    "    plot.axvline(start_date, color='darkgrey')\n",
    "    plot.axvline(lowest_date, color='r')\n",
    "    plot.axvline(end_date, color='g')\n",
    "    plot.axhline(start_price, color='g')\n",
    "    plot.axhline(lowest_price, color='r')\n",
    "    plt.ylabel('Adjusted Close Price')\n",
    "    plt.title(f'S&P 500 between {start_date[0:4]} and {end_date[0:4]}');"
   ]
  },
  {
   "cell_type": "code",
   "execution_count": 36,
   "metadata": {},
   "outputs": [
    {
     "name": "stderr",
     "output_type": "stream",
     "text": [
      "<ipython-input-34-3df627dc20d6>:4: UserWarning: Boolean Series key will be reindexed to match DataFrame index.\n",
      "  end = sp500.loc[start_date:][sp500[column] > start_price].reset_index().head(1)\n",
      "<ipython-input-34-3df627dc20d6>:17: UserWarning: Boolean Series key will be reindexed to match DataFrame index.\n",
      "  lowest_date = sp500[start_date:end_date][sp500[column] == lowest_price]\n"
     ]
    },
    {
     "data": {
      "text/html": [
       "<div>\n",
       "<style scoped>\n",
       "    .dataframe tbody tr th:only-of-type {\n",
       "        vertical-align: middle;\n",
       "    }\n",
       "\n",
       "    .dataframe tbody tr th {\n",
       "        vertical-align: top;\n",
       "    }\n",
       "\n",
       "    .dataframe thead th {\n",
       "        text-align: right;\n",
       "    }\n",
       "</style>\n",
       "<table border=\"1\" class=\"dataframe\">\n",
       "  <thead>\n",
       "    <tr style=\"text-align: right;\">\n",
       "      <th></th>\n",
       "      <th>year</th>\n",
       "      <th>start_date</th>\n",
       "      <th>lowest_date</th>\n",
       "      <th>end_date</th>\n",
       "      <th>start_price</th>\n",
       "      <th>lowest_price</th>\n",
       "      <th>end_price</th>\n",
       "      <th>days_of_recovery</th>\n",
       "      <th>months_of_recovery</th>\n",
       "      <th>years_of_recovery</th>\n",
       "      <th>abs_percentage_loss</th>\n",
       "    </tr>\n",
       "  </thead>\n",
       "  <tbody>\n",
       "    <tr>\n",
       "      <th>0</th>\n",
       "      <td>2007</td>\n",
       "      <td>2007-10-09</td>\n",
       "      <td>2009-03-09</td>\n",
       "      <td>2013-03-28</td>\n",
       "      <td>1565.150024</td>\n",
       "      <td>676.530029</td>\n",
       "      <td>1569.189941</td>\n",
       "      <td>1997.0</td>\n",
       "      <td>65.611204</td>\n",
       "      <td>5.4676</td>\n",
       "      <td>0.567754</td>\n",
       "    </tr>\n",
       "  </tbody>\n",
       "</table>\n",
       "</div>"
      ],
      "text/plain": [
       "   year  start_date lowest_date    end_date  start_price  lowest_price  \\\n",
       "0  2007  2007-10-09  2009-03-09  2013-03-28  1565.150024    676.530029   \n",
       "\n",
       "     end_price  days_of_recovery  months_of_recovery  years_of_recovery  \\\n",
       "0  1569.189941            1997.0           65.611204             5.4676   \n",
       "\n",
       "   abs_percentage_loss  \n",
       "0             0.567754  "
      ]
     },
     "execution_count": 36,
     "metadata": {},
     "output_type": "execute_result"
    }
   ],
   "source": [
    "first = create_df('2007-10-09', 'Adj Close')\n",
    "first"
   ]
  },
  {
   "cell_type": "code",
   "execution_count": 37,
   "metadata": {},
   "outputs": [
    {
     "name": "stderr",
     "output_type": "stream",
     "text": [
      "<ipython-input-35-1fd52ce5935e>:4: UserWarning: Boolean Series key will be reindexed to match DataFrame index.\n",
      "  end = sp500.loc[start_date:][sp500[column] > start_price].reset_index().head(1)\n",
      "<ipython-input-35-1fd52ce5935e>:17: UserWarning: Boolean Series key will be reindexed to match DataFrame index.\n",
      "  lowest_date = sp500[start_date:end_date][sp500[column] == lowest_price]\n"
     ]
    },
    {
     "data": {
      "image/png": "[encoded data removed]",
      "text/plain": [
       "<Figure size 1080x720 with 1 Axes>"
      ]
     },
     "metadata": {
      "needs_background": "light"
     },
     "output_type": "display_data"
    }
   ],
   "source": [
    "create_plot('2007-10-09', 'Adj Close')"
   ]
  },
  {
   "cell_type": "code",
   "execution_count": 38,
   "metadata": {},
   "outputs": [
    {
     "name": "stderr",
     "output_type": "stream",
     "text": [
      "<ipython-input-34-3df627dc20d6>:4: UserWarning: Boolean Series key will be reindexed to match DataFrame index.\n",
      "  end = sp500.loc[start_date:][sp500[column] > start_price].reset_index().head(1)\n",
      "<ipython-input-34-3df627dc20d6>:17: UserWarning: Boolean Series key will be reindexed to match DataFrame index.\n",
      "  lowest_date = sp500[start_date:end_date][sp500[column] == lowest_price]\n"
     ]
    },
    {
     "data": {
      "text/html": [
       "<div>\n",
       "<style scoped>\n",
       "    .dataframe tbody tr th:only-of-type {\n",
       "        vertical-align: middle;\n",
       "    }\n",
       "\n",
       "    .dataframe tbody tr th {\n",
       "        vertical-align: top;\n",
       "    }\n",
       "\n",
       "    .dataframe thead th {\n",
       "        text-align: right;\n",
       "    }\n",
       "</style>\n",
       "<table border=\"1\" class=\"dataframe\">\n",
       "  <thead>\n",
       "    <tr style=\"text-align: right;\">\n",
       "      <th></th>\n",
       "      <th>year</th>\n",
       "      <th>start_date</th>\n",
       "      <th>lowest_date</th>\n",
       "      <th>end_date</th>\n",
       "      <th>start_price</th>\n",
       "      <th>lowest_price</th>\n",
       "      <th>end_price</th>\n",
       "      <th>days_of_recovery</th>\n",
       "      <th>months_of_recovery</th>\n",
       "      <th>years_of_recovery</th>\n",
       "      <th>abs_percentage_loss</th>\n",
       "    </tr>\n",
       "  </thead>\n",
       "  <tbody>\n",
       "    <tr>\n",
       "      <th>0</th>\n",
       "      <td>2000</td>\n",
       "      <td>2000-03-24</td>\n",
       "      <td>2002-10-09</td>\n",
       "      <td>2007-05-30</td>\n",
       "      <td>1527.459961</td>\n",
       "      <td>776.76001</td>\n",
       "      <td>1530.22998</td>\n",
       "      <td>2623.0</td>\n",
       "      <td>86.178361</td>\n",
       "      <td>7.18153</td>\n",
       "      <td>0.491469</td>\n",
       "    </tr>\n",
       "  </tbody>\n",
       "</table>\n",
       "</div>"
      ],
      "text/plain": [
       "   year  start_date lowest_date    end_date  start_price  lowest_price  \\\n",
       "0  2000  2000-03-24  2002-10-09  2007-05-30  1527.459961     776.76001   \n",
       "\n",
       "    end_price  days_of_recovery  months_of_recovery  years_of_recovery  \\\n",
       "0  1530.22998            2623.0           86.178361            7.18153   \n",
       "\n",
       "   abs_percentage_loss  \n",
       "0             0.491469  "
      ]
     },
     "execution_count": 38,
     "metadata": {},
     "output_type": "execute_result"
    }
   ],
   "source": [
    "second = create_df('2000-03-24', 'Adj Close')\n",
    "second"
   ]
  },
  {
   "cell_type": "code",
   "execution_count": 39,
   "metadata": {},
   "outputs": [
    {
     "name": "stderr",
     "output_type": "stream",
     "text": [
      "<ipython-input-34-3df627dc20d6>:4: UserWarning: Boolean Series key will be reindexed to match DataFrame index.\n",
      "  end = sp500.loc[start_date:][sp500[column] > start_price].reset_index().head(1)\n",
      "<ipython-input-34-3df627dc20d6>:17: UserWarning: Boolean Series key will be reindexed to match DataFrame index.\n",
      "  lowest_date = sp500[start_date:end_date][sp500[column] == lowest_price]\n"
     ]
    },
    {
     "data": {
      "text/html": [
       "<div>\n",
       "<style scoped>\n",
       "    .dataframe tbody tr th:only-of-type {\n",
       "        vertical-align: middle;\n",
       "    }\n",
       "\n",
       "    .dataframe tbody tr th {\n",
       "        vertical-align: top;\n",
       "    }\n",
       "\n",
       "    .dataframe thead th {\n",
       "        text-align: right;\n",
       "    }\n",
       "</style>\n",
       "<table border=\"1\" class=\"dataframe\">\n",
       "  <thead>\n",
       "    <tr style=\"text-align: right;\">\n",
       "      <th></th>\n",
       "      <th>year</th>\n",
       "      <th>start_date</th>\n",
       "      <th>lowest_date</th>\n",
       "      <th>end_date</th>\n",
       "      <th>start_price</th>\n",
       "      <th>lowest_price</th>\n",
       "      <th>end_price</th>\n",
       "      <th>days_of_recovery</th>\n",
       "      <th>months_of_recovery</th>\n",
       "      <th>years_of_recovery</th>\n",
       "      <th>abs_percentage_loss</th>\n",
       "    </tr>\n",
       "  </thead>\n",
       "  <tbody>\n",
       "    <tr>\n",
       "      <th>0</th>\n",
       "      <td>1990</td>\n",
       "      <td>1990-07-16</td>\n",
       "      <td>1990-10-11</td>\n",
       "      <td>1991-02-13</td>\n",
       "      <td>368.950012</td>\n",
       "      <td>295.459991</td>\n",
       "      <td>369.019989</td>\n",
       "      <td>212.0</td>\n",
       "      <td>6.965235</td>\n",
       "      <td>0.580436</td>\n",
       "      <td>0.199187</td>\n",
       "    </tr>\n",
       "  </tbody>\n",
       "</table>\n",
       "</div>"
      ],
      "text/plain": [
       "   year  start_date lowest_date    end_date  start_price  lowest_price  \\\n",
       "0  1990  1990-07-16  1990-10-11  1991-02-13   368.950012    295.459991   \n",
       "\n",
       "    end_price  days_of_recovery  months_of_recovery  years_of_recovery  \\\n",
       "0  369.019989             212.0            6.965235           0.580436   \n",
       "\n",
       "   abs_percentage_loss  \n",
       "0             0.199187  "
      ]
     },
     "execution_count": 39,
     "metadata": {},
     "output_type": "execute_result"
    }
   ],
   "source": [
    "third = create_df('1990-07-16', 'Adj Close')\n",
    "third"
   ]
  },
  {
   "cell_type": "code",
   "execution_count": 40,
   "metadata": {},
   "outputs": [
    {
     "name": "stderr",
     "output_type": "stream",
     "text": [
      "<ipython-input-34-3df627dc20d6>:4: UserWarning: Boolean Series key will be reindexed to match DataFrame index.\n",
      "  end = sp500.loc[start_date:][sp500[column] > start_price].reset_index().head(1)\n",
      "<ipython-input-34-3df627dc20d6>:17: UserWarning: Boolean Series key will be reindexed to match DataFrame index.\n",
      "  lowest_date = sp500[start_date:end_date][sp500[column] == lowest_price]\n"
     ]
    },
    {
     "data": {
      "text/html": [
       "<div>\n",
       "<style scoped>\n",
       "    .dataframe tbody tr th:only-of-type {\n",
       "        vertical-align: middle;\n",
       "    }\n",
       "\n",
       "    .dataframe tbody tr th {\n",
       "        vertical-align: top;\n",
       "    }\n",
       "\n",
       "    .dataframe thead th {\n",
       "        text-align: right;\n",
       "    }\n",
       "</style>\n",
       "<table border=\"1\" class=\"dataframe\">\n",
       "  <thead>\n",
       "    <tr style=\"text-align: right;\">\n",
       "      <th></th>\n",
       "      <th>year</th>\n",
       "      <th>start_date</th>\n",
       "      <th>lowest_date</th>\n",
       "      <th>end_date</th>\n",
       "      <th>start_price</th>\n",
       "      <th>lowest_price</th>\n",
       "      <th>end_price</th>\n",
       "      <th>days_of_recovery</th>\n",
       "      <th>months_of_recovery</th>\n",
       "      <th>years_of_recovery</th>\n",
       "      <th>abs_percentage_loss</th>\n",
       "    </tr>\n",
       "  </thead>\n",
       "  <tbody>\n",
       "    <tr>\n",
       "      <th>0</th>\n",
       "      <td>1987</td>\n",
       "      <td>1987-08-25</td>\n",
       "      <td>1987-12-04</td>\n",
       "      <td>1989-07-26</td>\n",
       "      <td>336.769989</td>\n",
       "      <td>223.919998</td>\n",
       "      <td>338.049988</td>\n",
       "      <td>701.0</td>\n",
       "      <td>23.031274</td>\n",
       "      <td>1.919273</td>\n",
       "      <td>0.335095</td>\n",
       "    </tr>\n",
       "  </tbody>\n",
       "</table>\n",
       "</div>"
      ],
      "text/plain": [
       "   year  start_date lowest_date    end_date  start_price  lowest_price  \\\n",
       "0  1987  1987-08-25  1987-12-04  1989-07-26   336.769989    223.919998   \n",
       "\n",
       "    end_price  days_of_recovery  months_of_recovery  years_of_recovery  \\\n",
       "0  338.049988             701.0           23.031274           1.919273   \n",
       "\n",
       "   abs_percentage_loss  \n",
       "0             0.335095  "
      ]
     },
     "execution_count": 40,
     "metadata": {},
     "output_type": "execute_result"
    }
   ],
   "source": [
    "fourth = create_df('1987-08-25', 'Adj Close')\n",
    "fourth"
   ]
  },
  {
   "cell_type": "code",
   "execution_count": 41,
   "metadata": {},
   "outputs": [
    {
     "name": "stderr",
     "output_type": "stream",
     "text": [
      "<ipython-input-34-3df627dc20d6>:4: UserWarning: Boolean Series key will be reindexed to match DataFrame index.\n",
      "  end = sp500.loc[start_date:][sp500[column] > start_price].reset_index().head(1)\n",
      "<ipython-input-34-3df627dc20d6>:17: UserWarning: Boolean Series key will be reindexed to match DataFrame index.\n",
      "  lowest_date = sp500[start_date:end_date][sp500[column] == lowest_price]\n"
     ]
    },
    {
     "data": {
      "text/html": [
       "<div>\n",
       "<style scoped>\n",
       "    .dataframe tbody tr th:only-of-type {\n",
       "        vertical-align: middle;\n",
       "    }\n",
       "\n",
       "    .dataframe tbody tr th {\n",
       "        vertical-align: top;\n",
       "    }\n",
       "\n",
       "    .dataframe thead th {\n",
       "        text-align: right;\n",
       "    }\n",
       "</style>\n",
       "<table border=\"1\" class=\"dataframe\">\n",
       "  <thead>\n",
       "    <tr style=\"text-align: right;\">\n",
       "      <th></th>\n",
       "      <th>year</th>\n",
       "      <th>start_date</th>\n",
       "      <th>lowest_date</th>\n",
       "      <th>end_date</th>\n",
       "      <th>start_price</th>\n",
       "      <th>lowest_price</th>\n",
       "      <th>end_price</th>\n",
       "      <th>days_of_recovery</th>\n",
       "      <th>months_of_recovery</th>\n",
       "      <th>years_of_recovery</th>\n",
       "      <th>abs_percentage_loss</th>\n",
       "    </tr>\n",
       "  </thead>\n",
       "  <tbody>\n",
       "    <tr>\n",
       "      <th>0</th>\n",
       "      <td>1980</td>\n",
       "      <td>1980-11-28</td>\n",
       "      <td>1982-08-12</td>\n",
       "      <td>1982-11-03</td>\n",
       "      <td>140.520004</td>\n",
       "      <td>102.419998</td>\n",
       "      <td>142.869995</td>\n",
       "      <td>705.0</td>\n",
       "      <td>23.162693</td>\n",
       "      <td>1.930224</td>\n",
       "      <td>0.271136</td>\n",
       "    </tr>\n",
       "  </tbody>\n",
       "</table>\n",
       "</div>"
      ],
      "text/plain": [
       "   year  start_date lowest_date    end_date  start_price  lowest_price  \\\n",
       "0  1980  1980-11-28  1982-08-12  1982-11-03   140.520004    102.419998   \n",
       "\n",
       "    end_price  days_of_recovery  months_of_recovery  years_of_recovery  \\\n",
       "0  142.869995             705.0           23.162693           1.930224   \n",
       "\n",
       "   abs_percentage_loss  \n",
       "0             0.271136  "
      ]
     },
     "execution_count": 41,
     "metadata": {},
     "output_type": "execute_result"
    }
   ],
   "source": [
    "fifth = create_df('1980-11-28', 'Adj Close')\n",
    "fifth"
   ]
  },
  {
   "cell_type": "code",
   "execution_count": 42,
   "metadata": {},
   "outputs": [
    {
     "name": "stderr",
     "output_type": "stream",
     "text": [
      "<ipython-input-34-3df627dc20d6>:4: UserWarning: Boolean Series key will be reindexed to match DataFrame index.\n",
      "  end = sp500.loc[start_date:][sp500[column] > start_price].reset_index().head(1)\n",
      "<ipython-input-34-3df627dc20d6>:17: UserWarning: Boolean Series key will be reindexed to match DataFrame index.\n",
      "  lowest_date = sp500[start_date:end_date][sp500[column] == lowest_price]\n"
     ]
    },
    {
     "data": {
      "text/html": [
       "<div>\n",
       "<style scoped>\n",
       "    .dataframe tbody tr th:only-of-type {\n",
       "        vertical-align: middle;\n",
       "    }\n",
       "\n",
       "    .dataframe tbody tr th {\n",
       "        vertical-align: top;\n",
       "    }\n",
       "\n",
       "    .dataframe thead th {\n",
       "        text-align: right;\n",
       "    }\n",
       "</style>\n",
       "<table border=\"1\" class=\"dataframe\">\n",
       "  <thead>\n",
       "    <tr style=\"text-align: right;\">\n",
       "      <th></th>\n",
       "      <th>year</th>\n",
       "      <th>start_date</th>\n",
       "      <th>lowest_date</th>\n",
       "      <th>end_date</th>\n",
       "      <th>start_price</th>\n",
       "      <th>lowest_price</th>\n",
       "      <th>end_price</th>\n",
       "      <th>days_of_recovery</th>\n",
       "      <th>months_of_recovery</th>\n",
       "      <th>years_of_recovery</th>\n",
       "      <th>abs_percentage_loss</th>\n",
       "    </tr>\n",
       "  </thead>\n",
       "  <tbody>\n",
       "    <tr>\n",
       "      <th>0</th>\n",
       "      <td>1973</td>\n",
       "      <td>1973-01-11</td>\n",
       "      <td>1974-10-03</td>\n",
       "      <td>1980-07-17</td>\n",
       "      <td>120.239998</td>\n",
       "      <td>62.279999</td>\n",
       "      <td>121.440002</td>\n",
       "      <td>2744.0</td>\n",
       "      <td>90.153802</td>\n",
       "      <td>7.512817</td>\n",
       "      <td>0.482036</td>\n",
       "    </tr>\n",
       "  </tbody>\n",
       "</table>\n",
       "</div>"
      ],
      "text/plain": [
       "   year  start_date lowest_date    end_date  start_price  lowest_price  \\\n",
       "0  1973  1973-01-11  1974-10-03  1980-07-17   120.239998     62.279999   \n",
       "\n",
       "    end_price  days_of_recovery  months_of_recovery  years_of_recovery  \\\n",
       "0  121.440002            2744.0           90.153802           7.512817   \n",
       "\n",
       "   abs_percentage_loss  \n",
       "0             0.482036  "
      ]
     },
     "execution_count": 42,
     "metadata": {},
     "output_type": "execute_result"
    }
   ],
   "source": [
    "sixth = create_df('1973-01-11', 'Adj Close')\n",
    "sixth"
   ]
  },
  {
   "cell_type": "code",
   "execution_count": 43,
   "metadata": {},
   "outputs": [
    {
     "name": "stderr",
     "output_type": "stream",
     "text": [
      "<ipython-input-34-3df627dc20d6>:4: UserWarning: Boolean Series key will be reindexed to match DataFrame index.\n",
      "  end = sp500.loc[start_date:][sp500[column] > start_price].reset_index().head(1)\n",
      "<ipython-input-34-3df627dc20d6>:17: UserWarning: Boolean Series key will be reindexed to match DataFrame index.\n",
      "  lowest_date = sp500[start_date:end_date][sp500[column] == lowest_price]\n"
     ]
    },
    {
     "data": {
      "text/html": [
       "<div>\n",
       "<style scoped>\n",
       "    .dataframe tbody tr th:only-of-type {\n",
       "        vertical-align: middle;\n",
       "    }\n",
       "\n",
       "    .dataframe tbody tr th {\n",
       "        vertical-align: top;\n",
       "    }\n",
       "\n",
       "    .dataframe thead th {\n",
       "        text-align: right;\n",
       "    }\n",
       "</style>\n",
       "<table border=\"1\" class=\"dataframe\">\n",
       "  <thead>\n",
       "    <tr style=\"text-align: right;\">\n",
       "      <th></th>\n",
       "      <th>year</th>\n",
       "      <th>start_date</th>\n",
       "      <th>lowest_date</th>\n",
       "      <th>end_date</th>\n",
       "      <th>start_price</th>\n",
       "      <th>lowest_price</th>\n",
       "      <th>end_price</th>\n",
       "      <th>days_of_recovery</th>\n",
       "      <th>months_of_recovery</th>\n",
       "      <th>years_of_recovery</th>\n",
       "      <th>abs_percentage_loss</th>\n",
       "    </tr>\n",
       "  </thead>\n",
       "  <tbody>\n",
       "    <tr>\n",
       "      <th>0</th>\n",
       "      <td>1968</td>\n",
       "      <td>1968-11-29</td>\n",
       "      <td>1970-05-26</td>\n",
       "      <td>1972-03-06</td>\n",
       "      <td>108.370003</td>\n",
       "      <td>69.290001</td>\n",
       "      <td>108.769997</td>\n",
       "      <td>1193.0</td>\n",
       "      <td>39.195877</td>\n",
       "      <td>3.266323</td>\n",
       "      <td>0.360616</td>\n",
       "    </tr>\n",
       "  </tbody>\n",
       "</table>\n",
       "</div>"
      ],
      "text/plain": [
       "   year  start_date lowest_date    end_date  start_price  lowest_price  \\\n",
       "0  1968  1968-11-29  1970-05-26  1972-03-06   108.370003     69.290001   \n",
       "\n",
       "    end_price  days_of_recovery  months_of_recovery  years_of_recovery  \\\n",
       "0  108.769997            1193.0           39.195877           3.266323   \n",
       "\n",
       "   abs_percentage_loss  \n",
       "0             0.360616  "
      ]
     },
     "execution_count": 43,
     "metadata": {},
     "output_type": "execute_result"
    }
   ],
   "source": [
    "seventh = create_df('1968-11-29', 'Adj Close')\n",
    "seventh"
   ]
  },
  {
   "cell_type": "code",
   "execution_count": 44,
   "metadata": {},
   "outputs": [
    {
     "name": "stderr",
     "output_type": "stream",
     "text": [
      "<ipython-input-34-3df627dc20d6>:4: UserWarning: Boolean Series key will be reindexed to match DataFrame index.\n",
      "  end = sp500.loc[start_date:][sp500[column] > start_price].reset_index().head(1)\n",
      "<ipython-input-34-3df627dc20d6>:17: UserWarning: Boolean Series key will be reindexed to match DataFrame index.\n",
      "  lowest_date = sp500[start_date:end_date][sp500[column] == lowest_price]\n"
     ]
    },
    {
     "data": {
      "text/html": [
       "<div>\n",
       "<style scoped>\n",
       "    .dataframe tbody tr th:only-of-type {\n",
       "        vertical-align: middle;\n",
       "    }\n",
       "\n",
       "    .dataframe tbody tr th {\n",
       "        vertical-align: top;\n",
       "    }\n",
       "\n",
       "    .dataframe thead th {\n",
       "        text-align: right;\n",
       "    }\n",
       "</style>\n",
       "<table border=\"1\" class=\"dataframe\">\n",
       "  <thead>\n",
       "    <tr style=\"text-align: right;\">\n",
       "      <th></th>\n",
       "      <th>year</th>\n",
       "      <th>start_date</th>\n",
       "      <th>lowest_date</th>\n",
       "      <th>end_date</th>\n",
       "      <th>start_price</th>\n",
       "      <th>lowest_price</th>\n",
       "      <th>end_price</th>\n",
       "      <th>days_of_recovery</th>\n",
       "      <th>months_of_recovery</th>\n",
       "      <th>years_of_recovery</th>\n",
       "      <th>abs_percentage_loss</th>\n",
       "    </tr>\n",
       "  </thead>\n",
       "  <tbody>\n",
       "    <tr>\n",
       "      <th>0</th>\n",
       "      <td>1966</td>\n",
       "      <td>1966-02-09</td>\n",
       "      <td>1966-10-07</td>\n",
       "      <td>1967-05-04</td>\n",
       "      <td>94.059998</td>\n",
       "      <td>73.199997</td>\n",
       "      <td>94.32</td>\n",
       "      <td>449.0</td>\n",
       "      <td>14.751843</td>\n",
       "      <td>1.22932</td>\n",
       "      <td>0.221773</td>\n",
       "    </tr>\n",
       "  </tbody>\n",
       "</table>\n",
       "</div>"
      ],
      "text/plain": [
       "   year  start_date lowest_date    end_date  start_price  lowest_price  \\\n",
       "0  1966  1966-02-09  1966-10-07  1967-05-04    94.059998     73.199997   \n",
       "\n",
       "   end_price  days_of_recovery  months_of_recovery  years_of_recovery  \\\n",
       "0      94.32             449.0           14.751843            1.22932   \n",
       "\n",
       "   abs_percentage_loss  \n",
       "0             0.221773  "
      ]
     },
     "execution_count": 44,
     "metadata": {},
     "output_type": "execute_result"
    }
   ],
   "source": [
    "eighth = create_df('1966-02-09', 'Adj Close')\n",
    "eighth"
   ]
  },
  {
   "cell_type": "code",
   "execution_count": 45,
   "metadata": {},
   "outputs": [
    {
     "name": "stderr",
     "output_type": "stream",
     "text": [
      "<ipython-input-34-3df627dc20d6>:4: UserWarning: Boolean Series key will be reindexed to match DataFrame index.\n",
      "  end = sp500.loc[start_date:][sp500[column] > start_price].reset_index().head(1)\n",
      "<ipython-input-34-3df627dc20d6>:17: UserWarning: Boolean Series key will be reindexed to match DataFrame index.\n",
      "  lowest_date = sp500[start_date:end_date][sp500[column] == lowest_price]\n"
     ]
    },
    {
     "data": {
      "text/html": [
       "<div>\n",
       "<style scoped>\n",
       "    .dataframe tbody tr th:only-of-type {\n",
       "        vertical-align: middle;\n",
       "    }\n",
       "\n",
       "    .dataframe tbody tr th {\n",
       "        vertical-align: top;\n",
       "    }\n",
       "\n",
       "    .dataframe thead th {\n",
       "        text-align: right;\n",
       "    }\n",
       "</style>\n",
       "<table border=\"1\" class=\"dataframe\">\n",
       "  <thead>\n",
       "    <tr style=\"text-align: right;\">\n",
       "      <th></th>\n",
       "      <th>year</th>\n",
       "      <th>start_date</th>\n",
       "      <th>lowest_date</th>\n",
       "      <th>end_date</th>\n",
       "      <th>start_price</th>\n",
       "      <th>lowest_price</th>\n",
       "      <th>end_price</th>\n",
       "      <th>days_of_recovery</th>\n",
       "      <th>months_of_recovery</th>\n",
       "      <th>years_of_recovery</th>\n",
       "      <th>abs_percentage_loss</th>\n",
       "    </tr>\n",
       "  </thead>\n",
       "  <tbody>\n",
       "    <tr>\n",
       "      <th>0</th>\n",
       "      <td>1961</td>\n",
       "      <td>1961-12-12</td>\n",
       "      <td>1962-06-26</td>\n",
       "      <td>1963-09-03</td>\n",
       "      <td>72.639999</td>\n",
       "      <td>52.32</td>\n",
       "      <td>72.660004</td>\n",
       "      <td>630.0</td>\n",
       "      <td>20.698577</td>\n",
       "      <td>1.724881</td>\n",
       "      <td>0.279736</td>\n",
       "    </tr>\n",
       "  </tbody>\n",
       "</table>\n",
       "</div>"
      ],
      "text/plain": [
       "   year  start_date lowest_date    end_date  start_price  lowest_price  \\\n",
       "0  1961  1961-12-12  1962-06-26  1963-09-03    72.639999         52.32   \n",
       "\n",
       "   end_price  days_of_recovery  months_of_recovery  years_of_recovery  \\\n",
       "0  72.660004             630.0           20.698577           1.724881   \n",
       "\n",
       "   abs_percentage_loss  \n",
       "0             0.279736  "
      ]
     },
     "execution_count": 45,
     "metadata": {},
     "output_type": "execute_result"
    }
   ],
   "source": [
    "ninth = create_df('1961-12-12', 'Adj Close')\n",
    "ninth"
   ]
  },
  {
   "cell_type": "code",
   "execution_count": 46,
   "metadata": {},
   "outputs": [
    {
     "name": "stderr",
     "output_type": "stream",
     "text": [
      "<ipython-input-34-3df627dc20d6>:4: UserWarning: Boolean Series key will be reindexed to match DataFrame index.\n",
      "  end = sp500.loc[start_date:][sp500[column] > start_price].reset_index().head(1)\n",
      "<ipython-input-34-3df627dc20d6>:17: UserWarning: Boolean Series key will be reindexed to match DataFrame index.\n",
      "  lowest_date = sp500[start_date:end_date][sp500[column] == lowest_price]\n"
     ]
    },
    {
     "data": {
      "text/html": [
       "<div>\n",
       "<style scoped>\n",
       "    .dataframe tbody tr th:only-of-type {\n",
       "        vertical-align: middle;\n",
       "    }\n",
       "\n",
       "    .dataframe tbody tr th {\n",
       "        vertical-align: top;\n",
       "    }\n",
       "\n",
       "    .dataframe thead th {\n",
       "        text-align: right;\n",
       "    }\n",
       "</style>\n",
       "<table border=\"1\" class=\"dataframe\">\n",
       "  <thead>\n",
       "    <tr style=\"text-align: right;\">\n",
       "      <th></th>\n",
       "      <th>year</th>\n",
       "      <th>start_date</th>\n",
       "      <th>lowest_date</th>\n",
       "      <th>end_date</th>\n",
       "      <th>start_price</th>\n",
       "      <th>lowest_price</th>\n",
       "      <th>end_price</th>\n",
       "      <th>days_of_recovery</th>\n",
       "      <th>months_of_recovery</th>\n",
       "      <th>years_of_recovery</th>\n",
       "      <th>abs_percentage_loss</th>\n",
       "    </tr>\n",
       "  </thead>\n",
       "  <tbody>\n",
       "    <tr>\n",
       "      <th>0</th>\n",
       "      <td>1956</td>\n",
       "      <td>1956-08-02</td>\n",
       "      <td>1957-10-22</td>\n",
       "      <td>1958-09-24</td>\n",
       "      <td>49.639999</td>\n",
       "      <td>38.98</td>\n",
       "      <td>49.779999</td>\n",
       "      <td>783.0</td>\n",
       "      <td>25.725374</td>\n",
       "      <td>2.143781</td>\n",
       "      <td>0.214746</td>\n",
       "    </tr>\n",
       "  </tbody>\n",
       "</table>\n",
       "</div>"
      ],
      "text/plain": [
       "   year  start_date lowest_date    end_date  start_price  lowest_price  \\\n",
       "0  1956  1956-08-02  1957-10-22  1958-09-24    49.639999         38.98   \n",
       "\n",
       "   end_price  days_of_recovery  months_of_recovery  years_of_recovery  \\\n",
       "0  49.779999             783.0           25.725374           2.143781   \n",
       "\n",
       "   abs_percentage_loss  \n",
       "0             0.214746  "
      ]
     },
     "execution_count": 46,
     "metadata": {},
     "output_type": "execute_result"
    }
   ],
   "source": [
    "tenth = create_df('1956-08-02', 'Adj Close')\n",
    "tenth"
   ]
  },
  {
   "cell_type": "code",
   "execution_count": 47,
   "metadata": {},
   "outputs": [
    {
     "name": "stderr",
     "output_type": "stream",
     "text": [
      "<ipython-input-34-3df627dc20d6>:4: UserWarning: Boolean Series key will be reindexed to match DataFrame index.\n",
      "  end = sp500.loc[start_date:][sp500[column] > start_price].reset_index().head(1)\n",
      "<ipython-input-34-3df627dc20d6>:17: UserWarning: Boolean Series key will be reindexed to match DataFrame index.\n",
      "  lowest_date = sp500[start_date:end_date][sp500[column] == lowest_price]\n"
     ]
    },
    {
     "data": {
      "text/html": [
       "<div>\n",
       "<style scoped>\n",
       "    .dataframe tbody tr th:only-of-type {\n",
       "        vertical-align: middle;\n",
       "    }\n",
       "\n",
       "    .dataframe tbody tr th {\n",
       "        vertical-align: top;\n",
       "    }\n",
       "\n",
       "    .dataframe thead th {\n",
       "        text-align: right;\n",
       "    }\n",
       "</style>\n",
       "<table border=\"1\" class=\"dataframe\">\n",
       "  <thead>\n",
       "    <tr style=\"text-align: right;\">\n",
       "      <th></th>\n",
       "      <th>year</th>\n",
       "      <th>start_date</th>\n",
       "      <th>lowest_date</th>\n",
       "      <th>end_date</th>\n",
       "      <th>start_price</th>\n",
       "      <th>lowest_price</th>\n",
       "      <th>end_price</th>\n",
       "      <th>days_of_recovery</th>\n",
       "      <th>months_of_recovery</th>\n",
       "      <th>years_of_recovery</th>\n",
       "      <th>abs_percentage_loss</th>\n",
       "    </tr>\n",
       "  </thead>\n",
       "  <tbody>\n",
       "    <tr>\n",
       "      <th>0</th>\n",
       "      <td>1929</td>\n",
       "      <td>1929-09-16</td>\n",
       "      <td>1932-06-01</td>\n",
       "      <td>1954-09-22</td>\n",
       "      <td>31.860001</td>\n",
       "      <td>4.4</td>\n",
       "      <td>32.0</td>\n",
       "      <td>9137.0</td>\n",
       "      <td>300.195076</td>\n",
       "      <td>25.016256</td>\n",
       "      <td>0.861896</td>\n",
       "    </tr>\n",
       "  </tbody>\n",
       "</table>\n",
       "</div>"
      ],
      "text/plain": [
       "   year  start_date lowest_date    end_date  start_price  lowest_price  \\\n",
       "0  1929  1929-09-16  1932-06-01  1954-09-22    31.860001           4.4   \n",
       "\n",
       "   end_price  days_of_recovery  months_of_recovery  years_of_recovery  \\\n",
       "0       32.0            9137.0          300.195076          25.016256   \n",
       "\n",
       "   abs_percentage_loss  \n",
       "0             0.861896  "
      ]
     },
     "execution_count": 47,
     "metadata": {},
     "output_type": "execute_result"
    }
   ],
   "source": [
    "eleventh = create_df('1929-09-16', 'Adj Close')\n",
    "eleventh"
   ]
  },
  {
   "cell_type": "code",
   "execution_count": 48,
   "metadata": {},
   "outputs": [
    {
     "name": "stderr",
     "output_type": "stream",
     "text": [
      "<ipython-input-35-1fd52ce5935e>:4: UserWarning: Boolean Series key will be reindexed to match DataFrame index.\n",
      "  end = sp500.loc[start_date:][sp500[column] > start_price].reset_index().head(1)\n",
      "<ipython-input-35-1fd52ce5935e>:17: UserWarning: Boolean Series key will be reindexed to match DataFrame index.\n",
      "  lowest_date = sp500[start_date:end_date][sp500[column] == lowest_price]\n"
     ]
    },
    {
     "data": {
      "image/png": "[encoded data removed]",
      "text/plain": [
       "<Figure size 1080x720 with 1 Axes>"
      ]
     },
     "metadata": {
      "needs_background": "light"
     },
     "output_type": "display_data"
    }
   ],
   "source": [
    "create_plot('1929-09-16', 'Adj Close')"
   ]
  },
  {
   "cell_type": "code",
   "execution_count": 49,
   "metadata": {},
   "outputs": [],
   "source": [
    "all_recessions_df = (pd.concat([first, \n",
    "                                second, \n",
    "                                third, \n",
    "                                fourth, \n",
    "                                fifth, \n",
    "                                sixth, \n",
    "                                seventh, \n",
    "                                eighth, \n",
    "                                ninth, \n",
    "                                tenth, \n",
    "                                eleventh]).reset_index(drop=True)) #fourteenth (great depression is out)"
   ]
  },
  {
   "cell_type": "code",
   "execution_count": 50,
   "metadata": {},
   "outputs": [
    {
     "data": {
      "text/html": [
       "<div>\n",
       "<style scoped>\n",
       "    .dataframe tbody tr th:only-of-type {\n",
       "        vertical-align: middle;\n",
       "    }\n",
       "\n",
       "    .dataframe tbody tr th {\n",
       "        vertical-align: top;\n",
       "    }\n",
       "\n",
       "    .dataframe thead th {\n",
       "        text-align: right;\n",
       "    }\n",
       "</style>\n",
       "<table border=\"1\" class=\"dataframe\">\n",
       "  <thead>\n",
       "    <tr style=\"text-align: right;\">\n",
       "      <th></th>\n",
       "      <th>year</th>\n",
       "      <th>start_date</th>\n",
       "      <th>lowest_date</th>\n",
       "      <th>end_date</th>\n",
       "      <th>start_price</th>\n",
       "      <th>lowest_price</th>\n",
       "      <th>end_price</th>\n",
       "      <th>days_of_recovery</th>\n",
       "      <th>months_of_recovery</th>\n",
       "      <th>years_of_recovery</th>\n",
       "      <th>abs_percentage_loss</th>\n",
       "    </tr>\n",
       "  </thead>\n",
       "  <tbody>\n",
       "    <tr>\n",
       "      <th>10</th>\n",
       "      <td>1929</td>\n",
       "      <td>1929-09-16</td>\n",
       "      <td>1932-06-01</td>\n",
       "      <td>1954-09-22</td>\n",
       "      <td>31.860001</td>\n",
       "      <td>4.400000</td>\n",
       "      <td>32.000000</td>\n",
       "      <td>9137.0</td>\n",
       "      <td>300.195076</td>\n",
       "      <td>25.016256</td>\n",
       "      <td>0.861896</td>\n",
       "    </tr>\n",
       "    <tr>\n",
       "      <th>9</th>\n",
       "      <td>1956</td>\n",
       "      <td>1956-08-02</td>\n",
       "      <td>1957-10-22</td>\n",
       "      <td>1958-09-24</td>\n",
       "      <td>49.639999</td>\n",
       "      <td>38.980000</td>\n",
       "      <td>49.779999</td>\n",
       "      <td>783.0</td>\n",
       "      <td>25.725374</td>\n",
       "      <td>2.143781</td>\n",
       "      <td>0.214746</td>\n",
       "    </tr>\n",
       "    <tr>\n",
       "      <th>8</th>\n",
       "      <td>1961</td>\n",
       "      <td>1961-12-12</td>\n",
       "      <td>1962-06-26</td>\n",
       "      <td>1963-09-03</td>\n",
       "      <td>72.639999</td>\n",
       "      <td>52.320000</td>\n",
       "      <td>72.660004</td>\n",
       "      <td>630.0</td>\n",
       "      <td>20.698577</td>\n",
       "      <td>1.724881</td>\n",
       "      <td>0.279736</td>\n",
       "    </tr>\n",
       "    <tr>\n",
       "      <th>7</th>\n",
       "      <td>1966</td>\n",
       "      <td>1966-02-09</td>\n",
       "      <td>1966-10-07</td>\n",
       "      <td>1967-05-04</td>\n",
       "      <td>94.059998</td>\n",
       "      <td>73.199997</td>\n",
       "      <td>94.320000</td>\n",
       "      <td>449.0</td>\n",
       "      <td>14.751843</td>\n",
       "      <td>1.229320</td>\n",
       "      <td>0.221773</td>\n",
       "    </tr>\n",
       "    <tr>\n",
       "      <th>6</th>\n",
       "      <td>1968</td>\n",
       "      <td>1968-11-29</td>\n",
       "      <td>1970-05-26</td>\n",
       "      <td>1972-03-06</td>\n",
       "      <td>108.370003</td>\n",
       "      <td>69.290001</td>\n",
       "      <td>108.769997</td>\n",
       "      <td>1193.0</td>\n",
       "      <td>39.195877</td>\n",
       "      <td>3.266323</td>\n",
       "      <td>0.360616</td>\n",
       "    </tr>\n",
       "    <tr>\n",
       "      <th>5</th>\n",
       "      <td>1973</td>\n",
       "      <td>1973-01-11</td>\n",
       "      <td>1974-10-03</td>\n",
       "      <td>1980-07-17</td>\n",
       "      <td>120.239998</td>\n",
       "      <td>62.279999</td>\n",
       "      <td>121.440002</td>\n",
       "      <td>2744.0</td>\n",
       "      <td>90.153802</td>\n",
       "      <td>7.512817</td>\n",
       "      <td>0.482036</td>\n",
       "    </tr>\n",
       "    <tr>\n",
       "      <th>4</th>\n",
       "      <td>1980</td>\n",
       "      <td>1980-11-28</td>\n",
       "      <td>1982-08-12</td>\n",
       "      <td>1982-11-03</td>\n",
       "      <td>140.520004</td>\n",
       "      <td>102.419998</td>\n",
       "      <td>142.869995</td>\n",
       "      <td>705.0</td>\n",
       "      <td>23.162693</td>\n",
       "      <td>1.930224</td>\n",
       "      <td>0.271136</td>\n",
       "    </tr>\n",
       "    <tr>\n",
       "      <th>3</th>\n",
       "      <td>1987</td>\n",
       "      <td>1987-08-25</td>\n",
       "      <td>1987-12-04</td>\n",
       "      <td>1989-07-26</td>\n",
       "      <td>336.769989</td>\n",
       "      <td>223.919998</td>\n",
       "      <td>338.049988</td>\n",
       "      <td>701.0</td>\n",
       "      <td>23.031274</td>\n",
       "      <td>1.919273</td>\n",
       "      <td>0.335095</td>\n",
       "    </tr>\n",
       "    <tr>\n",
       "      <th>2</th>\n",
       "      <td>1990</td>\n",
       "      <td>1990-07-16</td>\n",
       "      <td>1990-10-11</td>\n",
       "      <td>1991-02-13</td>\n",
       "      <td>368.950012</td>\n",
       "      <td>295.459991</td>\n",
       "      <td>369.019989</td>\n",
       "      <td>212.0</td>\n",
       "      <td>6.965235</td>\n",
       "      <td>0.580436</td>\n",
       "      <td>0.199187</td>\n",
       "    </tr>\n",
       "    <tr>\n",
       "      <th>1</th>\n",
       "      <td>2000</td>\n",
       "      <td>2000-03-24</td>\n",
       "      <td>2002-10-09</td>\n",
       "      <td>2007-05-30</td>\n",
       "      <td>1527.459961</td>\n",
       "      <td>776.760010</td>\n",
       "      <td>1530.229980</td>\n",
       "      <td>2623.0</td>\n",
       "      <td>86.178361</td>\n",
       "      <td>7.181530</td>\n",
       "      <td>0.491469</td>\n",
       "    </tr>\n",
       "    <tr>\n",
       "      <th>0</th>\n",
       "      <td>2007</td>\n",
       "      <td>2007-10-09</td>\n",
       "      <td>2009-03-09</td>\n",
       "      <td>2013-03-28</td>\n",
       "      <td>1565.150024</td>\n",
       "      <td>676.530029</td>\n",
       "      <td>1569.189941</td>\n",
       "      <td>1997.0</td>\n",
       "      <td>65.611204</td>\n",
       "      <td>5.467600</td>\n",
       "      <td>0.567754</td>\n",
       "    </tr>\n",
       "  </tbody>\n",
       "</table>\n",
       "</div>"
      ],
      "text/plain": [
       "    year  start_date lowest_date    end_date  start_price  lowest_price  \\\n",
       "10  1929  1929-09-16  1932-06-01  1954-09-22    31.860001      4.400000   \n",
       "9   1956  1956-08-02  1957-10-22  1958-09-24    49.639999     38.980000   \n",
       "8   1961  1961-12-12  1962-06-26  1963-09-03    72.639999     52.320000   \n",
       "7   1966  1966-02-09  1966-10-07  1967-05-04    94.059998     73.199997   \n",
       "6   1968  1968-11-29  1970-05-26  1972-03-06   108.370003     69.290001   \n",
       "5   1973  1973-01-11  1974-10-03  1980-07-17   120.239998     62.279999   \n",
       "4   1980  1980-11-28  1982-08-12  1982-11-03   140.520004    102.419998   \n",
       "3   1987  1987-08-25  1987-12-04  1989-07-26   336.769989    223.919998   \n",
       "2   1990  1990-07-16  1990-10-11  1991-02-13   368.950012    295.459991   \n",
       "1   2000  2000-03-24  2002-10-09  2007-05-30  1527.459961    776.760010   \n",
       "0   2007  2007-10-09  2009-03-09  2013-03-28  1565.150024    676.530029   \n",
       "\n",
       "      end_price  days_of_recovery  months_of_recovery  years_of_recovery  \\\n",
       "10    32.000000            9137.0          300.195076          25.016256   \n",
       "9     49.779999             783.0           25.725374           2.143781   \n",
       "8     72.660004             630.0           20.698577           1.724881   \n",
       "7     94.320000             449.0           14.751843           1.229320   \n",
       "6    108.769997            1193.0           39.195877           3.266323   \n",
       "5    121.440002            2744.0           90.153802           7.512817   \n",
       "4    142.869995             705.0           23.162693           1.930224   \n",
       "3    338.049988             701.0           23.031274           1.919273   \n",
       "2    369.019989             212.0            6.965235           0.580436   \n",
       "1   1530.229980            2623.0           86.178361           7.181530   \n",
       "0   1569.189941            1997.0           65.611204           5.467600   \n",
       "\n",
       "    abs_percentage_loss  \n",
       "10             0.861896  \n",
       "9              0.214746  \n",
       "8              0.279736  \n",
       "7              0.221773  \n",
       "6              0.360616  \n",
       "5              0.482036  \n",
       "4              0.271136  \n",
       "3              0.335095  \n",
       "2              0.199187  \n",
       "1              0.491469  \n",
       "0              0.567754  "
      ]
     },
     "execution_count": 50,
     "metadata": {},
     "output_type": "execute_result"
    }
   ],
   "source": [
    "all_recessions_df.sort_values(by=['start_date'])"
   ]
  },
  {
   "cell_type": "markdown",
   "metadata": {},
   "source": [
    "## I cannot find any data in yahoo finance before December 1940 "
   ]
  },
  {
   "cell_type": "markdown",
   "metadata": {},
   "source": [
    "### Check the downloaded sp500 DataFrame before 1940"
   ]
  },
  {
   "cell_type": "code",
   "execution_count": 51,
   "metadata": {},
   "outputs": [
    {
     "data": {
      "image/png": "[encoded data removed]",
      "text/plain": [
       "<Figure size 1080x720 with 1 Axes>"
      ]
     },
     "metadata": {
      "needs_background": "light"
     },
     "output_type": "display_data"
    }
   ],
   "source": [
    "sp500_1927_42_plot = sp500['1927':'1942']['Adj Close'].plot(figsize=(15,10))\n",
    "sp500_1927_42_plot;"
   ]
  },
  {
   "cell_type": "code",
   "execution_count": 52,
   "metadata": {},
   "outputs": [],
   "source": [
    "sp500_1927_42 = sp500['1927':'1942']"
   ]
  },
  {
   "cell_type": "code",
   "execution_count": 53,
   "metadata": {},
   "outputs": [],
   "source": [
    "sp500_1927_42_max = sp500_1927_42['Adj Close'].max()"
   ]
  },
  {
   "cell_type": "code",
   "execution_count": 54,
   "metadata": {},
   "outputs": [
    {
     "data": {
      "text/html": [
       "<div>\n",
       "<style scoped>\n",
       "    .dataframe tbody tr th:only-of-type {\n",
       "        vertical-align: middle;\n",
       "    }\n",
       "\n",
       "    .dataframe tbody tr th {\n",
       "        vertical-align: top;\n",
       "    }\n",
       "\n",
       "    .dataframe thead th {\n",
       "        text-align: right;\n",
       "    }\n",
       "</style>\n",
       "<table border=\"1\" class=\"dataframe\">\n",
       "  <thead>\n",
       "    <tr style=\"text-align: right;\">\n",
       "      <th></th>\n",
       "      <th>Open</th>\n",
       "      <th>High</th>\n",
       "      <th>Low</th>\n",
       "      <th>Close</th>\n",
       "      <th>Adj Close</th>\n",
       "      <th>Volume</th>\n",
       "    </tr>\n",
       "    <tr>\n",
       "      <th>Date</th>\n",
       "      <th></th>\n",
       "      <th></th>\n",
       "      <th></th>\n",
       "      <th></th>\n",
       "      <th></th>\n",
       "      <th></th>\n",
       "    </tr>\n",
       "  </thead>\n",
       "  <tbody>\n",
       "    <tr>\n",
       "      <th>1929-09-16</th>\n",
       "      <td>31.860001</td>\n",
       "      <td>31.860001</td>\n",
       "      <td>31.860001</td>\n",
       "      <td>31.860001</td>\n",
       "      <td>31.860001</td>\n",
       "      <td>0</td>\n",
       "    </tr>\n",
       "  </tbody>\n",
       "</table>\n",
       "</div>"
      ],
      "text/plain": [
       "                 Open       High        Low      Close  Adj Close  Volume\n",
       "Date                                                                     \n",
       "1929-09-16  31.860001  31.860001  31.860001  31.860001  31.860001       0"
      ]
     },
     "execution_count": 54,
     "metadata": {},
     "output_type": "execute_result"
    }
   ],
   "source": [
    "sp500_1927_42[sp500_1927_42['Adj Close'] == sp500_1927_42_max]"
   ]
  },
  {
   "cell_type": "code",
   "execution_count": 55,
   "metadata": {},
   "outputs": [],
   "source": [
    "sp500_1936_38 = sp500['1936':'1938']"
   ]
  },
  {
   "cell_type": "code",
   "execution_count": 56,
   "metadata": {},
   "outputs": [],
   "source": [
    "sp500_1936_38_max = sp500_1936_38['Adj Close'].max()"
   ]
  },
  {
   "cell_type": "code",
   "execution_count": 57,
   "metadata": {},
   "outputs": [
    {
     "data": {
      "text/html": [
       "<div>\n",
       "<style scoped>\n",
       "    .dataframe tbody tr th:only-of-type {\n",
       "        vertical-align: middle;\n",
       "    }\n",
       "\n",
       "    .dataframe tbody tr th {\n",
       "        vertical-align: top;\n",
       "    }\n",
       "\n",
       "    .dataframe thead th {\n",
       "        text-align: right;\n",
       "    }\n",
       "</style>\n",
       "<table border=\"1\" class=\"dataframe\">\n",
       "  <thead>\n",
       "    <tr style=\"text-align: right;\">\n",
       "      <th></th>\n",
       "      <th>Open</th>\n",
       "      <th>High</th>\n",
       "      <th>Low</th>\n",
       "      <th>Close</th>\n",
       "      <th>Adj Close</th>\n",
       "      <th>Volume</th>\n",
       "    </tr>\n",
       "    <tr>\n",
       "      <th>Date</th>\n",
       "      <th></th>\n",
       "      <th></th>\n",
       "      <th></th>\n",
       "      <th></th>\n",
       "      <th></th>\n",
       "      <th></th>\n",
       "    </tr>\n",
       "  </thead>\n",
       "  <tbody>\n",
       "    <tr>\n",
       "      <th>1937-03-10</th>\n",
       "      <td>18.67</td>\n",
       "      <td>18.67</td>\n",
       "      <td>18.67</td>\n",
       "      <td>18.67</td>\n",
       "      <td>18.67</td>\n",
       "      <td>0</td>\n",
       "    </tr>\n",
       "  </tbody>\n",
       "</table>\n",
       "</div>"
      ],
      "text/plain": [
       "             Open   High    Low  Close  Adj Close  Volume\n",
       "Date                                                     \n",
       "1937-03-10  18.67  18.67  18.67  18.67      18.67       0"
      ]
     },
     "execution_count": 57,
     "metadata": {},
     "output_type": "execute_result"
    }
   ],
   "source": [
    "sp500_1936_38[sp500_1936_38['Adj Close'] == sp500_1936_38_max]"
   ]
  },
  {
   "cell_type": "markdown",
   "metadata": {},
   "source": [
    "### Save the new DataFrame"
   ]
  },
  {
   "cell_type": "code",
   "execution_count": 58,
   "metadata": {},
   "outputs": [],
   "source": [
    "all_recessions_df.to_csv('Data/all_recessions_without_new_lows_df.csv', index=None)"
   ]
  },
  {
   "cell_type": "code",
   "execution_count": 59,
   "metadata": {},
   "outputs": [
    {
     "data": {
      "text/html": [
       "<div>\n",
       "<style scoped>\n",
       "    .dataframe tbody tr th:only-of-type {\n",
       "        vertical-align: middle;\n",
       "    }\n",
       "\n",
       "    .dataframe tbody tr th {\n",
       "        vertical-align: top;\n",
       "    }\n",
       "\n",
       "    .dataframe thead th {\n",
       "        text-align: right;\n",
       "    }\n",
       "</style>\n",
       "<table border=\"1\" class=\"dataframe\">\n",
       "  <thead>\n",
       "    <tr style=\"text-align: right;\">\n",
       "      <th></th>\n",
       "      <th>year</th>\n",
       "      <th>start_date</th>\n",
       "      <th>lowest_date</th>\n",
       "      <th>end_date</th>\n",
       "      <th>start_price</th>\n",
       "      <th>lowest_price</th>\n",
       "      <th>end_price</th>\n",
       "      <th>days_of_recovery</th>\n",
       "      <th>months_of_recovery</th>\n",
       "      <th>years_of_recovery</th>\n",
       "      <th>abs_percentage_loss</th>\n",
       "    </tr>\n",
       "  </thead>\n",
       "  <tbody>\n",
       "    <tr>\n",
       "      <th>0</th>\n",
       "      <td>2007</td>\n",
       "      <td>2007-10-09</td>\n",
       "      <td>2009-03-09</td>\n",
       "      <td>2013-03-28</td>\n",
       "      <td>1565.150024</td>\n",
       "      <td>676.530029</td>\n",
       "      <td>1569.189941</td>\n",
       "      <td>1997.0</td>\n",
       "      <td>65.611204</td>\n",
       "      <td>5.467600</td>\n",
       "      <td>0.567754</td>\n",
       "    </tr>\n",
       "    <tr>\n",
       "      <th>1</th>\n",
       "      <td>2000</td>\n",
       "      <td>2000-03-24</td>\n",
       "      <td>2002-10-09</td>\n",
       "      <td>2007-05-30</td>\n",
       "      <td>1527.459961</td>\n",
       "      <td>776.760010</td>\n",
       "      <td>1530.229980</td>\n",
       "      <td>2623.0</td>\n",
       "      <td>86.178361</td>\n",
       "      <td>7.181530</td>\n",
       "      <td>0.491469</td>\n",
       "    </tr>\n",
       "    <tr>\n",
       "      <th>2</th>\n",
       "      <td>1990</td>\n",
       "      <td>1990-07-16</td>\n",
       "      <td>1990-10-11</td>\n",
       "      <td>1991-02-13</td>\n",
       "      <td>368.950012</td>\n",
       "      <td>295.459991</td>\n",
       "      <td>369.019989</td>\n",
       "      <td>212.0</td>\n",
       "      <td>6.965235</td>\n",
       "      <td>0.580436</td>\n",
       "      <td>0.199187</td>\n",
       "    </tr>\n",
       "    <tr>\n",
       "      <th>3</th>\n",
       "      <td>1987</td>\n",
       "      <td>1987-08-25</td>\n",
       "      <td>1987-12-04</td>\n",
       "      <td>1989-07-26</td>\n",
       "      <td>336.769989</td>\n",
       "      <td>223.919998</td>\n",
       "      <td>338.049988</td>\n",
       "      <td>701.0</td>\n",
       "      <td>23.031274</td>\n",
       "      <td>1.919273</td>\n",
       "      <td>0.335095</td>\n",
       "    </tr>\n",
       "    <tr>\n",
       "      <th>4</th>\n",
       "      <td>1980</td>\n",
       "      <td>1980-11-28</td>\n",
       "      <td>1982-08-12</td>\n",
       "      <td>1982-11-03</td>\n",
       "      <td>140.520004</td>\n",
       "      <td>102.419998</td>\n",
       "      <td>142.869995</td>\n",
       "      <td>705.0</td>\n",
       "      <td>23.162693</td>\n",
       "      <td>1.930224</td>\n",
       "      <td>0.271136</td>\n",
       "    </tr>\n",
       "  </tbody>\n",
       "</table>\n",
       "</div>"
      ],
      "text/plain": [
       "   year  start_date lowest_date    end_date  start_price  lowest_price  \\\n",
       "0  2007  2007-10-09  2009-03-09  2013-03-28  1565.150024    676.530029   \n",
       "1  2000  2000-03-24  2002-10-09  2007-05-30  1527.459961    776.760010   \n",
       "2  1990  1990-07-16  1990-10-11  1991-02-13   368.950012    295.459991   \n",
       "3  1987  1987-08-25  1987-12-04  1989-07-26   336.769989    223.919998   \n",
       "4  1980  1980-11-28  1982-08-12  1982-11-03   140.520004    102.419998   \n",
       "\n",
       "     end_price  days_of_recovery  months_of_recovery  years_of_recovery  \\\n",
       "0  1569.189941            1997.0           65.611204           5.467600   \n",
       "1  1530.229980            2623.0           86.178361           7.181530   \n",
       "2   369.019989             212.0            6.965235           0.580436   \n",
       "3   338.049988             701.0           23.031274           1.919273   \n",
       "4   142.869995             705.0           23.162693           1.930224   \n",
       "\n",
       "   abs_percentage_loss  \n",
       "0             0.567754  \n",
       "1             0.491469  \n",
       "2             0.199187  \n",
       "3             0.335095  \n",
       "4             0.271136  "
      ]
     },
     "execution_count": 59,
     "metadata": {},
     "output_type": "execute_result"
    }
   ],
   "source": [
    "check = pd.read_csv('Data/all_recessions_without_new_lows_df.csv')\n",
    "check.head()"
   ]
  },
  {
   "cell_type": "markdown",
   "metadata": {},
   "source": [
    "## Regression analysis"
   ]
  },
  {
   "cell_type": "code",
   "execution_count": 60,
   "metadata": {},
   "outputs": [
    {
     "data": {
      "text/html": [
       "<div>\n",
       "<style scoped>\n",
       "    .dataframe tbody tr th:only-of-type {\n",
       "        vertical-align: middle;\n",
       "    }\n",
       "\n",
       "    .dataframe tbody tr th {\n",
       "        vertical-align: top;\n",
       "    }\n",
       "\n",
       "    .dataframe thead th {\n",
       "        text-align: right;\n",
       "    }\n",
       "</style>\n",
       "<table border=\"1\" class=\"dataframe\">\n",
       "  <thead>\n",
       "    <tr style=\"text-align: right;\">\n",
       "      <th></th>\n",
       "      <th>year</th>\n",
       "      <th>start_date</th>\n",
       "      <th>lowest_date</th>\n",
       "      <th>end_date</th>\n",
       "      <th>start_price</th>\n",
       "      <th>lowest_price</th>\n",
       "      <th>end_price</th>\n",
       "      <th>days_of_recovery</th>\n",
       "      <th>months_of_recovery</th>\n",
       "      <th>years_of_recovery</th>\n",
       "      <th>abs_percentage_loss</th>\n",
       "    </tr>\n",
       "  </thead>\n",
       "  <tbody>\n",
       "    <tr>\n",
       "      <th>6</th>\n",
       "      <td>1968</td>\n",
       "      <td>1968-11-29</td>\n",
       "      <td>1970-05-26</td>\n",
       "      <td>1972-03-06</td>\n",
       "      <td>108.370003</td>\n",
       "      <td>69.290001</td>\n",
       "      <td>108.769997</td>\n",
       "      <td>1193.0</td>\n",
       "      <td>39.195877</td>\n",
       "      <td>3.266323</td>\n",
       "      <td>0.360616</td>\n",
       "    </tr>\n",
       "    <tr>\n",
       "      <th>7</th>\n",
       "      <td>1966</td>\n",
       "      <td>1966-02-09</td>\n",
       "      <td>1966-10-07</td>\n",
       "      <td>1967-05-04</td>\n",
       "      <td>94.059998</td>\n",
       "      <td>73.199997</td>\n",
       "      <td>94.320000</td>\n",
       "      <td>449.0</td>\n",
       "      <td>14.751843</td>\n",
       "      <td>1.229320</td>\n",
       "      <td>0.221773</td>\n",
       "    </tr>\n",
       "    <tr>\n",
       "      <th>8</th>\n",
       "      <td>1961</td>\n",
       "      <td>1961-12-12</td>\n",
       "      <td>1962-06-26</td>\n",
       "      <td>1963-09-03</td>\n",
       "      <td>72.639999</td>\n",
       "      <td>52.320000</td>\n",
       "      <td>72.660004</td>\n",
       "      <td>630.0</td>\n",
       "      <td>20.698577</td>\n",
       "      <td>1.724881</td>\n",
       "      <td>0.279736</td>\n",
       "    </tr>\n",
       "    <tr>\n",
       "      <th>9</th>\n",
       "      <td>1956</td>\n",
       "      <td>1956-08-02</td>\n",
       "      <td>1957-10-22</td>\n",
       "      <td>1958-09-24</td>\n",
       "      <td>49.639999</td>\n",
       "      <td>38.980000</td>\n",
       "      <td>49.779999</td>\n",
       "      <td>783.0</td>\n",
       "      <td>25.725374</td>\n",
       "      <td>2.143781</td>\n",
       "      <td>0.214746</td>\n",
       "    </tr>\n",
       "    <tr>\n",
       "      <th>10</th>\n",
       "      <td>1929</td>\n",
       "      <td>1929-09-16</td>\n",
       "      <td>1932-06-01</td>\n",
       "      <td>1954-09-22</td>\n",
       "      <td>31.860001</td>\n",
       "      <td>4.400000</td>\n",
       "      <td>32.000000</td>\n",
       "      <td>9137.0</td>\n",
       "      <td>300.195076</td>\n",
       "      <td>25.016256</td>\n",
       "      <td>0.861896</td>\n",
       "    </tr>\n",
       "  </tbody>\n",
       "</table>\n",
       "</div>"
      ],
      "text/plain": [
       "    year  start_date lowest_date    end_date  start_price  lowest_price  \\\n",
       "6   1968  1968-11-29  1970-05-26  1972-03-06   108.370003     69.290001   \n",
       "7   1966  1966-02-09  1966-10-07  1967-05-04    94.059998     73.199997   \n",
       "8   1961  1961-12-12  1962-06-26  1963-09-03    72.639999     52.320000   \n",
       "9   1956  1956-08-02  1957-10-22  1958-09-24    49.639999     38.980000   \n",
       "10  1929  1929-09-16  1932-06-01  1954-09-22    31.860001      4.400000   \n",
       "\n",
       "     end_price  days_of_recovery  months_of_recovery  years_of_recovery  \\\n",
       "6   108.769997            1193.0           39.195877           3.266323   \n",
       "7    94.320000             449.0           14.751843           1.229320   \n",
       "8    72.660004             630.0           20.698577           1.724881   \n",
       "9    49.779999             783.0           25.725374           2.143781   \n",
       "10   32.000000            9137.0          300.195076          25.016256   \n",
       "\n",
       "    abs_percentage_loss  \n",
       "6              0.360616  \n",
       "7              0.221773  \n",
       "8              0.279736  \n",
       "9              0.214746  \n",
       "10             0.861896  "
      ]
     },
     "execution_count": 60,
     "metadata": {},
     "output_type": "execute_result"
    }
   ],
   "source": [
    "all_recessions_df.tail()"
   ]
  },
  {
   "cell_type": "markdown",
   "metadata": {},
   "source": [
    "#### Create a constant"
   ]
  },
  {
   "cell_type": "code",
   "execution_count": 61,
   "metadata": {},
   "outputs": [
    {
     "data": {
      "text/html": [
       "<div>\n",
       "<style scoped>\n",
       "    .dataframe tbody tr th:only-of-type {\n",
       "        vertical-align: middle;\n",
       "    }\n",
       "\n",
       "    .dataframe tbody tr th {\n",
       "        vertical-align: top;\n",
       "    }\n",
       "\n",
       "    .dataframe thead th {\n",
       "        text-align: right;\n",
       "    }\n",
       "</style>\n",
       "<table border=\"1\" class=\"dataframe\">\n",
       "  <thead>\n",
       "    <tr style=\"text-align: right;\">\n",
       "      <th></th>\n",
       "      <th>const</th>\n",
       "      <th>year</th>\n",
       "      <th>start_date</th>\n",
       "      <th>lowest_date</th>\n",
       "      <th>end_date</th>\n",
       "      <th>start_price</th>\n",
       "      <th>lowest_price</th>\n",
       "      <th>end_price</th>\n",
       "      <th>days_of_recovery</th>\n",
       "      <th>months_of_recovery</th>\n",
       "      <th>years_of_recovery</th>\n",
       "      <th>abs_percentage_loss</th>\n",
       "    </tr>\n",
       "  </thead>\n",
       "  <tbody>\n",
       "    <tr>\n",
       "      <th>0</th>\n",
       "      <td>1.0</td>\n",
       "      <td>2007</td>\n",
       "      <td>2007-10-09</td>\n",
       "      <td>2009-03-09</td>\n",
       "      <td>2013-03-28</td>\n",
       "      <td>1565.150024</td>\n",
       "      <td>676.530029</td>\n",
       "      <td>1569.189941</td>\n",
       "      <td>1997.0</td>\n",
       "      <td>65.611204</td>\n",
       "      <td>5.467600</td>\n",
       "      <td>0.567754</td>\n",
       "    </tr>\n",
       "    <tr>\n",
       "      <th>1</th>\n",
       "      <td>1.0</td>\n",
       "      <td>2000</td>\n",
       "      <td>2000-03-24</td>\n",
       "      <td>2002-10-09</td>\n",
       "      <td>2007-05-30</td>\n",
       "      <td>1527.459961</td>\n",
       "      <td>776.760010</td>\n",
       "      <td>1530.229980</td>\n",
       "      <td>2623.0</td>\n",
       "      <td>86.178361</td>\n",
       "      <td>7.181530</td>\n",
       "      <td>0.491469</td>\n",
       "    </tr>\n",
       "    <tr>\n",
       "      <th>2</th>\n",
       "      <td>1.0</td>\n",
       "      <td>1990</td>\n",
       "      <td>1990-07-16</td>\n",
       "      <td>1990-10-11</td>\n",
       "      <td>1991-02-13</td>\n",
       "      <td>368.950012</td>\n",
       "      <td>295.459991</td>\n",
       "      <td>369.019989</td>\n",
       "      <td>212.0</td>\n",
       "      <td>6.965235</td>\n",
       "      <td>0.580436</td>\n",
       "      <td>0.199187</td>\n",
       "    </tr>\n",
       "    <tr>\n",
       "      <th>3</th>\n",
       "      <td>1.0</td>\n",
       "      <td>1987</td>\n",
       "      <td>1987-08-25</td>\n",
       "      <td>1987-12-04</td>\n",
       "      <td>1989-07-26</td>\n",
       "      <td>336.769989</td>\n",
       "      <td>223.919998</td>\n",
       "      <td>338.049988</td>\n",
       "      <td>701.0</td>\n",
       "      <td>23.031274</td>\n",
       "      <td>1.919273</td>\n",
       "      <td>0.335095</td>\n",
       "    </tr>\n",
       "    <tr>\n",
       "      <th>4</th>\n",
       "      <td>1.0</td>\n",
       "      <td>1980</td>\n",
       "      <td>1980-11-28</td>\n",
       "      <td>1982-08-12</td>\n",
       "      <td>1982-11-03</td>\n",
       "      <td>140.520004</td>\n",
       "      <td>102.419998</td>\n",
       "      <td>142.869995</td>\n",
       "      <td>705.0</td>\n",
       "      <td>23.162693</td>\n",
       "      <td>1.930224</td>\n",
       "      <td>0.271136</td>\n",
       "    </tr>\n",
       "  </tbody>\n",
       "</table>\n",
       "</div>"
      ],
      "text/plain": [
       "   const  year  start_date lowest_date    end_date  start_price  lowest_price  \\\n",
       "0    1.0  2007  2007-10-09  2009-03-09  2013-03-28  1565.150024    676.530029   \n",
       "1    1.0  2000  2000-03-24  2002-10-09  2007-05-30  1527.459961    776.760010   \n",
       "2    1.0  1990  1990-07-16  1990-10-11  1991-02-13   368.950012    295.459991   \n",
       "3    1.0  1987  1987-08-25  1987-12-04  1989-07-26   336.769989    223.919998   \n",
       "4    1.0  1980  1980-11-28  1982-08-12  1982-11-03   140.520004    102.419998   \n",
       "\n",
       "     end_price  days_of_recovery  months_of_recovery  years_of_recovery  \\\n",
       "0  1569.189941            1997.0           65.611204           5.467600   \n",
       "1  1530.229980            2623.0           86.178361           7.181530   \n",
       "2   369.019989             212.0            6.965235           0.580436   \n",
       "3   338.049988             701.0           23.031274           1.919273   \n",
       "4   142.869995             705.0           23.162693           1.930224   \n",
       "\n",
       "   abs_percentage_loss  \n",
       "0             0.567754  \n",
       "1             0.491469  \n",
       "2             0.199187  \n",
       "3             0.335095  \n",
       "4             0.271136  "
      ]
     },
     "execution_count": 61,
     "metadata": {},
     "output_type": "execute_result"
    }
   ],
   "source": [
    "all_recessions_df = sm.add_constant(all_recessions_df)\n",
    "all_recessions_df.head()"
   ]
  },
  {
   "cell_type": "markdown",
   "metadata": {},
   "source": [
    "### Run OLS to estimate the regression coefficients"
   ]
  },
  {
   "cell_type": "markdown",
   "metadata": {},
   "source": [
    "### Model 1"
   ]
  },
  {
   "cell_type": "code",
   "execution_count": 62,
   "metadata": {},
   "outputs": [
    {
     "name": "stderr",
     "output_type": "stream",
     "text": [
      "/Users/robertbozsik/opt/miniconda3/envs/boogie_woogie/lib/python3.8/site-packages/scipy/stats/stats.py:1534: UserWarning: kurtosistest only valid for n>=20 ... continuing anyway, n=11\n",
      "  warnings.warn(\"kurtosistest only valid for n>=20 ... continuing \"\n"
     ]
    },
    {
     "data": {
      "text/html": [
       "<table class=\"simpletable\">\n",
       "<caption>OLS Regression Results</caption>\n",
       "<tr>\n",
       "  <th>Dep. Variable:</th>    <td>days_of_recovery</td> <th>  R-squared:         </th> <td>   0.860</td>\n",
       "</tr>\n",
       "<tr>\n",
       "  <th>Model:</th>                   <td>OLS</td>       <th>  Adj. R-squared:    </th> <td>   0.845</td>\n",
       "</tr>\n",
       "<tr>\n",
       "  <th>Method:</th>             <td>Least Squares</td>  <th>  F-statistic:       </th> <td>   55.47</td>\n",
       "</tr>\n",
       "<tr>\n",
       "  <th>Date:</th>             <td>Thu, 09 Jul 2020</td> <th>  Prob (F-statistic):</th> <td>3.90e-05</td>\n",
       "</tr>\n",
       "<tr>\n",
       "  <th>Time:</th>                 <td>19:54:57</td>     <th>  Log-Likelihood:    </th> <td> -90.517</td>\n",
       "</tr>\n",
       "<tr>\n",
       "  <th>No. Observations:</th>      <td>    11</td>      <th>  AIC:               </th> <td>   185.0</td>\n",
       "</tr>\n",
       "<tr>\n",
       "  <th>Df Residuals:</th>          <td>     9</td>      <th>  BIC:               </th> <td>   185.8</td>\n",
       "</tr>\n",
       "<tr>\n",
       "  <th>Df Model:</th>              <td>     1</td>      <th>                     </th>     <td> </td>   \n",
       "</tr>\n",
       "<tr>\n",
       "  <th>Covariance Type:</th>      <td>nonrobust</td>    <th>                     </th>     <td> </td>   \n",
       "</tr>\n",
       "</table>\n",
       "<table class=\"simpletable\">\n",
       "<tr>\n",
       "           <td></td>              <th>coef</th>     <th>std err</th>      <th>t</th>      <th>P>|t|</th>  <th>[0.025</th>    <th>0.975]</th>  \n",
       "</tr>\n",
       "<tr>\n",
       "  <th>const</th>               <td>-2682.2109</td> <td>  688.472</td> <td>   -3.896</td> <td> 0.004</td> <td>-4239.644</td> <td>-1124.778</td>\n",
       "</tr>\n",
       "<tr>\n",
       "  <th>abs_percentage_loss</th> <td> 1.183e+04</td> <td> 1587.773</td> <td>    7.448</td> <td> 0.000</td> <td> 8233.895</td> <td> 1.54e+04</td>\n",
       "</tr>\n",
       "</table>\n",
       "<table class=\"simpletable\">\n",
       "<tr>\n",
       "  <th>Omnibus:</th>       <td> 2.044</td> <th>  Durbin-Watson:     </th> <td>   0.871</td>\n",
       "</tr>\n",
       "<tr>\n",
       "  <th>Prob(Omnibus):</th> <td> 0.360</td> <th>  Jarque-Bera (JB):  </th> <td>   0.393</td>\n",
       "</tr>\n",
       "<tr>\n",
       "  <th>Skew:</th>          <td>-0.419</td> <th>  Prob(JB):          </th> <td>   0.821</td>\n",
       "</tr>\n",
       "<tr>\n",
       "  <th>Kurtosis:</th>      <td> 3.394</td> <th>  Cond. No.          </th> <td>    6.08</td>\n",
       "</tr>\n",
       "</table><br/><br/>Warnings:<br/>[1] Standard Errors assume that the covariance matrix of the errors is correctly specified."
      ],
      "text/plain": [
       "<class 'statsmodels.iolib.summary.Summary'>\n",
       "\"\"\"\n",
       "                            OLS Regression Results                            \n",
       "==============================================================================\n",
       "Dep. Variable:       days_of_recovery   R-squared:                       0.860\n",
       "Model:                            OLS   Adj. R-squared:                  0.845\n",
       "Method:                 Least Squares   F-statistic:                     55.47\n",
       "Date:                Thu, 09 Jul 2020   Prob (F-statistic):           3.90e-05\n",
       "Time:                        19:54:57   Log-Likelihood:                -90.517\n",
       "No. Observations:                  11   AIC:                             185.0\n",
       "Df Residuals:                       9   BIC:                             185.8\n",
       "Df Model:                           1                                         \n",
       "Covariance Type:            nonrobust                                         \n",
       "=======================================================================================\n",
       "                          coef    std err          t      P>|t|      [0.025      0.975]\n",
       "---------------------------------------------------------------------------------------\n",
       "const               -2682.2109    688.472     -3.896      0.004   -4239.644   -1124.778\n",
       "abs_percentage_loss  1.183e+04   1587.773      7.448      0.000    8233.895    1.54e+04\n",
       "==============================================================================\n",
       "Omnibus:                        2.044   Durbin-Watson:                   0.871\n",
       "Prob(Omnibus):                  0.360   Jarque-Bera (JB):                0.393\n",
       "Skew:                          -0.419   Prob(JB):                        0.821\n",
       "Kurtosis:                       3.394   Cond. No.                         6.08\n",
       "==============================================================================\n",
       "\n",
       "Warnings:\n",
       "[1] Standard Errors assume that the covariance matrix of the errors is correctly specified.\n",
       "\"\"\""
      ]
     },
     "execution_count": 62,
     "metadata": {},
     "output_type": "execute_result"
    }
   ],
   "source": [
    "y = all_recessions_df['days_of_recovery']\n",
    "X = all_recessions_df[['const', 'abs_percentage_loss']]\n",
    "\n",
    "lin_reg_model = sm.OLS(y,X)\n",
    "results = lin_reg_model.fit()\n",
    "results.summary()"
   ]
  },
  {
   "cell_type": "markdown",
   "metadata": {},
   "source": [
    "### Plot the results"
   ]
  },
  {
   "cell_type": "code",
   "execution_count": 63,
   "metadata": {},
   "outputs": [],
   "source": [
    "predictions1 = results.predict(X)"
   ]
  },
  {
   "cell_type": "code",
   "execution_count": 64,
   "metadata": {},
   "outputs": [
    {
     "data": {
      "text/html": [
       "<div>\n",
       "<style scoped>\n",
       "    .dataframe tbody tr th:only-of-type {\n",
       "        vertical-align: middle;\n",
       "    }\n",
       "\n",
       "    .dataframe tbody tr th {\n",
       "        vertical-align: top;\n",
       "    }\n",
       "\n",
       "    .dataframe thead th {\n",
       "        text-align: right;\n",
       "    }\n",
       "</style>\n",
       "<table border=\"1\" class=\"dataframe\">\n",
       "  <thead>\n",
       "    <tr style=\"text-align: right;\">\n",
       "      <th></th>\n",
       "      <th>const</th>\n",
       "      <th>year</th>\n",
       "      <th>start_date</th>\n",
       "      <th>lowest_date</th>\n",
       "      <th>end_date</th>\n",
       "      <th>start_price</th>\n",
       "      <th>lowest_price</th>\n",
       "      <th>end_price</th>\n",
       "      <th>days_of_recovery</th>\n",
       "      <th>months_of_recovery</th>\n",
       "      <th>years_of_recovery</th>\n",
       "      <th>abs_percentage_loss</th>\n",
       "      <th>pred_days_of_recovery1</th>\n",
       "    </tr>\n",
       "  </thead>\n",
       "  <tbody>\n",
       "    <tr>\n",
       "      <th>0</th>\n",
       "      <td>1.0</td>\n",
       "      <td>2007</td>\n",
       "      <td>2007-10-09</td>\n",
       "      <td>2009-03-09</td>\n",
       "      <td>2013-03-28</td>\n",
       "      <td>1565.150024</td>\n",
       "      <td>676.530029</td>\n",
       "      <td>1569.189941</td>\n",
       "      <td>1997.0</td>\n",
       "      <td>65.611204</td>\n",
       "      <td>5.467600</td>\n",
       "      <td>0.567754</td>\n",
       "      <td>4031.867913</td>\n",
       "    </tr>\n",
       "    <tr>\n",
       "      <th>1</th>\n",
       "      <td>1.0</td>\n",
       "      <td>2000</td>\n",
       "      <td>2000-03-24</td>\n",
       "      <td>2002-10-09</td>\n",
       "      <td>2007-05-30</td>\n",
       "      <td>1527.459961</td>\n",
       "      <td>776.760010</td>\n",
       "      <td>1530.229980</td>\n",
       "      <td>2623.0</td>\n",
       "      <td>86.178361</td>\n",
       "      <td>7.181530</td>\n",
       "      <td>0.491469</td>\n",
       "      <td>3129.752602</td>\n",
       "    </tr>\n",
       "    <tr>\n",
       "      <th>2</th>\n",
       "      <td>1.0</td>\n",
       "      <td>1990</td>\n",
       "      <td>1990-07-16</td>\n",
       "      <td>1990-10-11</td>\n",
       "      <td>1991-02-13</td>\n",
       "      <td>368.950012</td>\n",
       "      <td>295.459991</td>\n",
       "      <td>369.019989</td>\n",
       "      <td>212.0</td>\n",
       "      <td>6.965235</td>\n",
       "      <td>0.580436</td>\n",
       "      <td>0.199187</td>\n",
       "      <td>-326.688890</td>\n",
       "    </tr>\n",
       "    <tr>\n",
       "      <th>3</th>\n",
       "      <td>1.0</td>\n",
       "      <td>1987</td>\n",
       "      <td>1987-08-25</td>\n",
       "      <td>1987-12-04</td>\n",
       "      <td>1989-07-26</td>\n",
       "      <td>336.769989</td>\n",
       "      <td>223.919998</td>\n",
       "      <td>338.049988</td>\n",
       "      <td>701.0</td>\n",
       "      <td>23.031274</td>\n",
       "      <td>1.919273</td>\n",
       "      <td>0.335095</td>\n",
       "      <td>1280.518995</td>\n",
       "    </tr>\n",
       "    <tr>\n",
       "      <th>4</th>\n",
       "      <td>1.0</td>\n",
       "      <td>1980</td>\n",
       "      <td>1980-11-28</td>\n",
       "      <td>1982-08-12</td>\n",
       "      <td>1982-11-03</td>\n",
       "      <td>140.520004</td>\n",
       "      <td>102.419998</td>\n",
       "      <td>142.869995</td>\n",
       "      <td>705.0</td>\n",
       "      <td>23.162693</td>\n",
       "      <td>1.930224</td>\n",
       "      <td>0.271136</td>\n",
       "      <td>524.155991</td>\n",
       "    </tr>\n",
       "  </tbody>\n",
       "</table>\n",
       "</div>"
      ],
      "text/plain": [
       "   const  year  start_date lowest_date    end_date  start_price  lowest_price  \\\n",
       "0    1.0  2007  2007-10-09  2009-03-09  2013-03-28  1565.150024    676.530029   \n",
       "1    1.0  2000  2000-03-24  2002-10-09  2007-05-30  1527.459961    776.760010   \n",
       "2    1.0  1990  1990-07-16  1990-10-11  1991-02-13   368.950012    295.459991   \n",
       "3    1.0  1987  1987-08-25  1987-12-04  1989-07-26   336.769989    223.919998   \n",
       "4    1.0  1980  1980-11-28  1982-08-12  1982-11-03   140.520004    102.419998   \n",
       "\n",
       "     end_price  days_of_recovery  months_of_recovery  years_of_recovery  \\\n",
       "0  1569.189941            1997.0           65.611204           5.467600   \n",
       "1  1530.229980            2623.0           86.178361           7.181530   \n",
       "2   369.019989             212.0            6.965235           0.580436   \n",
       "3   338.049988             701.0           23.031274           1.919273   \n",
       "4   142.869995             705.0           23.162693           1.930224   \n",
       "\n",
       "   abs_percentage_loss  pred_days_of_recovery1  \n",
       "0             0.567754             4031.867913  \n",
       "1             0.491469             3129.752602  \n",
       "2             0.199187             -326.688890  \n",
       "3             0.335095             1280.518995  \n",
       "4             0.271136              524.155991  "
      ]
     },
     "execution_count": 64,
     "metadata": {},
     "output_type": "execute_result"
    }
   ],
   "source": [
    "all_recessions_df = all_recessions_df.assign(pred_days_of_recovery1=predictions1)\n",
    "all_recessions_df.head()"
   ]
  },
  {
   "cell_type": "code",
   "execution_count": 65,
   "metadata": {},
   "outputs": [
    {
     "data": {
      "image/png": "[encoded data removed]",
      "text/plain": [
       "<Figure size 360x360 with 1 Axes>"
      ]
     },
     "metadata": {},
     "output_type": "display_data"
    }
   ],
   "source": [
    "sns.set_style('whitegrid')\n",
    "sns.lmplot(x ='abs_percentage_loss', y ='days_of_recovery', data = all_recessions_df);"
   ]
  },
  {
   "cell_type": "code",
   "execution_count": 66,
   "metadata": {},
   "outputs": [
    {
     "data": {
      "image/png": "[encoded data removed]",
      "text/plain": [
       "<Figure size 720x432 with 1 Axes>"
      ]
     },
     "metadata": {},
     "output_type": "display_data"
    }
   ],
   "source": [
    "all_recessions_df.plot(kind='scatter', x='abs_percentage_loss', y='days_of_recovery', figsize=(10,6))\n",
    "plt.plot(all_recessions_df['abs_percentage_loss'], all_recessions_df['pred_days_of_recovery1'], color='green')\n",
    "plt.title(f'S&P 500 Absolute Percentage Losses vs. Days of Recovery');"
   ]
  },
  {
   "cell_type": "markdown",
   "metadata": {},
   "source": [
    "### Make a prediction for the days of recovery of S&P 500 in the Covid-19 situation "
   ]
  },
  {
   "cell_type": "markdown",
   "metadata": {},
   "source": [
    "**prediction 1 (with the linear regression model)**"
   ]
  },
  {
   "cell_type": "markdown",
   "metadata": {},
   "source": [
    "$y = b_0 + b_1 * x_1$"
   ]
  },
  {
   "cell_type": "code",
   "execution_count": 67,
   "metadata": {},
   "outputs": [
    {
     "data": {
      "text/plain": [
       "const                  -2682.210917\n",
       "abs_percentage_loss    11825.685559\n",
       "dtype: float64"
      ]
     },
     "execution_count": 67,
     "metadata": {},
     "output_type": "execute_result"
    }
   ],
   "source": [
    "results.params"
   ]
  },
  {
   "cell_type": "code",
   "execution_count": 68,
   "metadata": {},
   "outputs": [
    {
     "data": {
      "text/plain": [
       "-2682.2109170854956"
      ]
     },
     "execution_count": 68,
     "metadata": {},
     "output_type": "execute_result"
    }
   ],
   "source": [
    "beta0 = results.params[0] # intercept\n",
    "beta0"
   ]
  },
  {
   "cell_type": "code",
   "execution_count": 69,
   "metadata": {},
   "outputs": [
    {
     "data": {
      "text/plain": [
       "11825.685558830988"
      ]
     },
     "execution_count": 69,
     "metadata": {},
     "output_type": "execute_result"
    }
   ],
   "source": [
    "beta1 = results.params[1] # slope\n",
    "beta1"
   ]
  },
  {
   "cell_type": "code",
   "execution_count": 70,
   "metadata": {},
   "outputs": [],
   "source": [
    "def lin_reg_model(x):\n",
    "    y = beta0 + beta1 * x\n",
    "    return y"
   ]
  },
  {
   "cell_type": "code",
   "execution_count": 71,
   "metadata": {},
   "outputs": [
    {
     "data": {
      "text/plain": [
       "1326.6964873582097"
      ]
     },
     "execution_count": 71,
     "metadata": {},
     "output_type": "execute_result"
    }
   ],
   "source": [
    "covid_recovery = lin_reg_model(0.339)\n",
    "covid_recovery"
   ]
  },
  {
   "cell_type": "code",
   "execution_count": 72,
   "metadata": {},
   "outputs": [
    {
     "name": "stdout",
     "output_type": "stream",
     "text": [
      "The recovery of the S&P 500 stock price recession will take: \n",
      " - in days: 1326.7 days, \n",
      " - in months: 44.22 months, \n",
      " - in years: 3.63 years\n"
     ]
    }
   ],
   "source": [
    "print(f'''The recovery of the S&P 500 stock price recession will take: \n",
    " - in days: {round(covid_recovery, 2)} days, \n",
    " - in months: {round(covid_recovery / 30, 2)} months, \n",
    " - in years: {round(covid_recovery / 365, 2)} years''')"
   ]
  },
  {
   "cell_type": "markdown",
   "metadata": {},
   "source": [
    "**confidence intervall or prediction interval???**"
   ]
  },
  {
   "cell_type": "code",
   "execution_count": 73,
   "metadata": {},
   "outputs": [
    {
     "data": {
      "text/html": [
       "<div>\n",
       "<style scoped>\n",
       "    .dataframe tbody tr th:only-of-type {\n",
       "        vertical-align: middle;\n",
       "    }\n",
       "\n",
       "    .dataframe tbody tr th {\n",
       "        vertical-align: top;\n",
       "    }\n",
       "\n",
       "    .dataframe thead th {\n",
       "        text-align: right;\n",
       "    }\n",
       "</style>\n",
       "<table border=\"1\" class=\"dataframe\">\n",
       "  <thead>\n",
       "    <tr style=\"text-align: right;\">\n",
       "      <th></th>\n",
       "      <th>0</th>\n",
       "      <th>1</th>\n",
       "    </tr>\n",
       "  </thead>\n",
       "  <tbody>\n",
       "    <tr>\n",
       "      <th>const</th>\n",
       "      <td>-4239.643735</td>\n",
       "      <td>-1124.778099</td>\n",
       "    </tr>\n",
       "    <tr>\n",
       "      <th>abs_percentage_loss</th>\n",
       "      <td>8233.894502</td>\n",
       "      <td>15417.476616</td>\n",
       "    </tr>\n",
       "  </tbody>\n",
       "</table>\n",
       "</div>"
      ],
      "text/plain": [
       "                               0             1\n",
       "const               -4239.643735  -1124.778099\n",
       "abs_percentage_loss  8233.894502  15417.476616"
      ]
     },
     "execution_count": 73,
     "metadata": {},
     "output_type": "execute_result"
    }
   ],
   "source": [
    "results.conf_int()"
   ]
  },
  {
   "cell_type": "code",
   "execution_count": 74,
   "metadata": {},
   "outputs": [],
   "source": [
    "t_crit = 2.16 # https://www.stat.colostate.edu/inmem/gumina/st201/pdf/Utts-Heckard_t-Table.pdf"
   ]
  },
  {
   "cell_type": "code",
   "execution_count": 75,
   "metadata": {},
   "outputs": [],
   "source": [
    "from scipy.stats import sem"
   ]
  },
  {
   "cell_type": "code",
   "execution_count": 76,
   "metadata": {},
   "outputs": [
    {
     "data": {
      "text/plain": [
       "711.8982890385248"
      ]
     },
     "execution_count": 76,
     "metadata": {},
     "output_type": "execute_result"
    }
   ],
   "source": [
    "se = sem(all_recessions_df['pred_days_of_recovery1']) # standard error\n",
    "se"
   ]
  },
  {
   "cell_type": "code",
   "execution_count": 77,
   "metadata": {},
   "outputs": [
    {
     "data": {
      "text/plain": [
       "-211.00381696500403"
      ]
     },
     "execution_count": 77,
     "metadata": {},
     "output_type": "execute_result"
    }
   ],
   "source": [
    "lower_ci = covid_recovery - t_crit * se\n",
    "lower_ci"
   ]
  },
  {
   "cell_type": "code",
   "execution_count": 78,
   "metadata": {},
   "outputs": [
    {
     "data": {
      "text/plain": [
       "2864.3967916814236"
      ]
     },
     "execution_count": 78,
     "metadata": {},
     "output_type": "execute_result"
    }
   ],
   "source": [
    "higher_ci = covid_recovery + t_crit * se\n",
    "higher_ci"
   ]
  },
  {
   "cell_type": "markdown",
   "metadata": {},
   "source": [
    "### Model 2 (Quadratic line / Polynomial Linear Regression)"
   ]
  },
  {
   "cell_type": "code",
   "execution_count": 79,
   "metadata": {},
   "outputs": [
    {
     "data": {
      "text/html": [
       "<div>\n",
       "<style scoped>\n",
       "    .dataframe tbody tr th:only-of-type {\n",
       "        vertical-align: middle;\n",
       "    }\n",
       "\n",
       "    .dataframe tbody tr th {\n",
       "        vertical-align: top;\n",
       "    }\n",
       "\n",
       "    .dataframe thead th {\n",
       "        text-align: right;\n",
       "    }\n",
       "</style>\n",
       "<table border=\"1\" class=\"dataframe\">\n",
       "  <thead>\n",
       "    <tr style=\"text-align: right;\">\n",
       "      <th></th>\n",
       "      <th>const</th>\n",
       "      <th>year</th>\n",
       "      <th>start_date</th>\n",
       "      <th>lowest_date</th>\n",
       "      <th>end_date</th>\n",
       "      <th>start_price</th>\n",
       "      <th>lowest_price</th>\n",
       "      <th>end_price</th>\n",
       "      <th>days_of_recovery</th>\n",
       "      <th>months_of_recovery</th>\n",
       "      <th>years_of_recovery</th>\n",
       "      <th>abs_percentage_loss</th>\n",
       "      <th>pred_days_of_recovery1</th>\n",
       "    </tr>\n",
       "  </thead>\n",
       "  <tbody>\n",
       "    <tr>\n",
       "      <th>0</th>\n",
       "      <td>1.0</td>\n",
       "      <td>2007</td>\n",
       "      <td>2007-10-09</td>\n",
       "      <td>2009-03-09</td>\n",
       "      <td>2013-03-28</td>\n",
       "      <td>1565.150024</td>\n",
       "      <td>676.530029</td>\n",
       "      <td>1569.189941</td>\n",
       "      <td>1997.0</td>\n",
       "      <td>65.611204</td>\n",
       "      <td>5.467600</td>\n",
       "      <td>0.567754</td>\n",
       "      <td>4031.867913</td>\n",
       "    </tr>\n",
       "    <tr>\n",
       "      <th>1</th>\n",
       "      <td>1.0</td>\n",
       "      <td>2000</td>\n",
       "      <td>2000-03-24</td>\n",
       "      <td>2002-10-09</td>\n",
       "      <td>2007-05-30</td>\n",
       "      <td>1527.459961</td>\n",
       "      <td>776.760010</td>\n",
       "      <td>1530.229980</td>\n",
       "      <td>2623.0</td>\n",
       "      <td>86.178361</td>\n",
       "      <td>7.181530</td>\n",
       "      <td>0.491469</td>\n",
       "      <td>3129.752602</td>\n",
       "    </tr>\n",
       "    <tr>\n",
       "      <th>2</th>\n",
       "      <td>1.0</td>\n",
       "      <td>1990</td>\n",
       "      <td>1990-07-16</td>\n",
       "      <td>1990-10-11</td>\n",
       "      <td>1991-02-13</td>\n",
       "      <td>368.950012</td>\n",
       "      <td>295.459991</td>\n",
       "      <td>369.019989</td>\n",
       "      <td>212.0</td>\n",
       "      <td>6.965235</td>\n",
       "      <td>0.580436</td>\n",
       "      <td>0.199187</td>\n",
       "      <td>-326.688890</td>\n",
       "    </tr>\n",
       "    <tr>\n",
       "      <th>3</th>\n",
       "      <td>1.0</td>\n",
       "      <td>1987</td>\n",
       "      <td>1987-08-25</td>\n",
       "      <td>1987-12-04</td>\n",
       "      <td>1989-07-26</td>\n",
       "      <td>336.769989</td>\n",
       "      <td>223.919998</td>\n",
       "      <td>338.049988</td>\n",
       "      <td>701.0</td>\n",
       "      <td>23.031274</td>\n",
       "      <td>1.919273</td>\n",
       "      <td>0.335095</td>\n",
       "      <td>1280.518995</td>\n",
       "    </tr>\n",
       "    <tr>\n",
       "      <th>4</th>\n",
       "      <td>1.0</td>\n",
       "      <td>1980</td>\n",
       "      <td>1980-11-28</td>\n",
       "      <td>1982-08-12</td>\n",
       "      <td>1982-11-03</td>\n",
       "      <td>140.520004</td>\n",
       "      <td>102.419998</td>\n",
       "      <td>142.869995</td>\n",
       "      <td>705.0</td>\n",
       "      <td>23.162693</td>\n",
       "      <td>1.930224</td>\n",
       "      <td>0.271136</td>\n",
       "      <td>524.155991</td>\n",
       "    </tr>\n",
       "  </tbody>\n",
       "</table>\n",
       "</div>"
      ],
      "text/plain": [
       "   const  year  start_date lowest_date    end_date  start_price  lowest_price  \\\n",
       "0    1.0  2007  2007-10-09  2009-03-09  2013-03-28  1565.150024    676.530029   \n",
       "1    1.0  2000  2000-03-24  2002-10-09  2007-05-30  1527.459961    776.760010   \n",
       "2    1.0  1990  1990-07-16  1990-10-11  1991-02-13   368.950012    295.459991   \n",
       "3    1.0  1987  1987-08-25  1987-12-04  1989-07-26   336.769989    223.919998   \n",
       "4    1.0  1980  1980-11-28  1982-08-12  1982-11-03   140.520004    102.419998   \n",
       "\n",
       "     end_price  days_of_recovery  months_of_recovery  years_of_recovery  \\\n",
       "0  1569.189941            1997.0           65.611204           5.467600   \n",
       "1  1530.229980            2623.0           86.178361           7.181530   \n",
       "2   369.019989             212.0            6.965235           0.580436   \n",
       "3   338.049988             701.0           23.031274           1.919273   \n",
       "4   142.869995             705.0           23.162693           1.930224   \n",
       "\n",
       "   abs_percentage_loss  pred_days_of_recovery1  \n",
       "0             0.567754             4031.867913  \n",
       "1             0.491469             3129.752602  \n",
       "2             0.199187             -326.688890  \n",
       "3             0.335095             1280.518995  \n",
       "4             0.271136              524.155991  "
      ]
     },
     "execution_count": 79,
     "metadata": {},
     "output_type": "execute_result"
    }
   ],
   "source": [
    "all_recessions_df.head()"
   ]
  },
  {
   "cell_type": "code",
   "execution_count": 80,
   "metadata": {},
   "outputs": [
    {
     "data": {
      "text/html": [
       "<div>\n",
       "<style scoped>\n",
       "    .dataframe tbody tr th:only-of-type {\n",
       "        vertical-align: middle;\n",
       "    }\n",
       "\n",
       "    .dataframe tbody tr th {\n",
       "        vertical-align: top;\n",
       "    }\n",
       "\n",
       "    .dataframe thead th {\n",
       "        text-align: right;\n",
       "    }\n",
       "</style>\n",
       "<table border=\"1\" class=\"dataframe\">\n",
       "  <thead>\n",
       "    <tr style=\"text-align: right;\">\n",
       "      <th></th>\n",
       "      <th>const</th>\n",
       "      <th>year</th>\n",
       "      <th>start_date</th>\n",
       "      <th>lowest_date</th>\n",
       "      <th>end_date</th>\n",
       "      <th>start_price</th>\n",
       "      <th>lowest_price</th>\n",
       "      <th>end_price</th>\n",
       "      <th>days_of_recovery</th>\n",
       "      <th>months_of_recovery</th>\n",
       "      <th>years_of_recovery</th>\n",
       "      <th>abs_percentage_loss</th>\n",
       "      <th>pred_days_of_recovery1</th>\n",
       "      <th>abs_per_loss_squared</th>\n",
       "    </tr>\n",
       "  </thead>\n",
       "  <tbody>\n",
       "    <tr>\n",
       "      <th>0</th>\n",
       "      <td>1.0</td>\n",
       "      <td>2007</td>\n",
       "      <td>2007-10-09</td>\n",
       "      <td>2009-03-09</td>\n",
       "      <td>2013-03-28</td>\n",
       "      <td>1565.150024</td>\n",
       "      <td>676.530029</td>\n",
       "      <td>1569.189941</td>\n",
       "      <td>1997.0</td>\n",
       "      <td>65.611204</td>\n",
       "      <td>5.467600</td>\n",
       "      <td>0.567754</td>\n",
       "      <td>4031.867913</td>\n",
       "      <td>0.322344</td>\n",
       "    </tr>\n",
       "    <tr>\n",
       "      <th>1</th>\n",
       "      <td>1.0</td>\n",
       "      <td>2000</td>\n",
       "      <td>2000-03-24</td>\n",
       "      <td>2002-10-09</td>\n",
       "      <td>2007-05-30</td>\n",
       "      <td>1527.459961</td>\n",
       "      <td>776.760010</td>\n",
       "      <td>1530.229980</td>\n",
       "      <td>2623.0</td>\n",
       "      <td>86.178361</td>\n",
       "      <td>7.181530</td>\n",
       "      <td>0.491469</td>\n",
       "      <td>3129.752602</td>\n",
       "      <td>0.241542</td>\n",
       "    </tr>\n",
       "    <tr>\n",
       "      <th>2</th>\n",
       "      <td>1.0</td>\n",
       "      <td>1990</td>\n",
       "      <td>1990-07-16</td>\n",
       "      <td>1990-10-11</td>\n",
       "      <td>1991-02-13</td>\n",
       "      <td>368.950012</td>\n",
       "      <td>295.459991</td>\n",
       "      <td>369.019989</td>\n",
       "      <td>212.0</td>\n",
       "      <td>6.965235</td>\n",
       "      <td>0.580436</td>\n",
       "      <td>0.199187</td>\n",
       "      <td>-326.688890</td>\n",
       "      <td>0.039675</td>\n",
       "    </tr>\n",
       "    <tr>\n",
       "      <th>3</th>\n",
       "      <td>1.0</td>\n",
       "      <td>1987</td>\n",
       "      <td>1987-08-25</td>\n",
       "      <td>1987-12-04</td>\n",
       "      <td>1989-07-26</td>\n",
       "      <td>336.769989</td>\n",
       "      <td>223.919998</td>\n",
       "      <td>338.049988</td>\n",
       "      <td>701.0</td>\n",
       "      <td>23.031274</td>\n",
       "      <td>1.919273</td>\n",
       "      <td>0.335095</td>\n",
       "      <td>1280.518995</td>\n",
       "      <td>0.112289</td>\n",
       "    </tr>\n",
       "    <tr>\n",
       "      <th>4</th>\n",
       "      <td>1.0</td>\n",
       "      <td>1980</td>\n",
       "      <td>1980-11-28</td>\n",
       "      <td>1982-08-12</td>\n",
       "      <td>1982-11-03</td>\n",
       "      <td>140.520004</td>\n",
       "      <td>102.419998</td>\n",
       "      <td>142.869995</td>\n",
       "      <td>705.0</td>\n",
       "      <td>23.162693</td>\n",
       "      <td>1.930224</td>\n",
       "      <td>0.271136</td>\n",
       "      <td>524.155991</td>\n",
       "      <td>0.073515</td>\n",
       "    </tr>\n",
       "  </tbody>\n",
       "</table>\n",
       "</div>"
      ],
      "text/plain": [
       "   const  year  start_date lowest_date    end_date  start_price  lowest_price  \\\n",
       "0    1.0  2007  2007-10-09  2009-03-09  2013-03-28  1565.150024    676.530029   \n",
       "1    1.0  2000  2000-03-24  2002-10-09  2007-05-30  1527.459961    776.760010   \n",
       "2    1.0  1990  1990-07-16  1990-10-11  1991-02-13   368.950012    295.459991   \n",
       "3    1.0  1987  1987-08-25  1987-12-04  1989-07-26   336.769989    223.919998   \n",
       "4    1.0  1980  1980-11-28  1982-08-12  1982-11-03   140.520004    102.419998   \n",
       "\n",
       "     end_price  days_of_recovery  months_of_recovery  years_of_recovery  \\\n",
       "0  1569.189941            1997.0           65.611204           5.467600   \n",
       "1  1530.229980            2623.0           86.178361           7.181530   \n",
       "2   369.019989             212.0            6.965235           0.580436   \n",
       "3   338.049988             701.0           23.031274           1.919273   \n",
       "4   142.869995             705.0           23.162693           1.930224   \n",
       "\n",
       "   abs_percentage_loss  pred_days_of_recovery1  abs_per_loss_squared  \n",
       "0             0.567754             4031.867913              0.322344  \n",
       "1             0.491469             3129.752602              0.241542  \n",
       "2             0.199187             -326.688890              0.039675  \n",
       "3             0.335095             1280.518995              0.112289  \n",
       "4             0.271136              524.155991              0.073515  "
      ]
     },
     "execution_count": 80,
     "metadata": {},
     "output_type": "execute_result"
    }
   ],
   "source": [
    "abs_perc_loss_squared = all_recessions_df['abs_percentage_loss'] ** 2\n",
    "all_recessions_df = all_recessions_df.assign(abs_per_loss_squared=abs_perc_loss_squared)\n",
    "all_recessions_df.head()"
   ]
  },
  {
   "cell_type": "code",
   "execution_count": 81,
   "metadata": {},
   "outputs": [
    {
     "name": "stderr",
     "output_type": "stream",
     "text": [
      "/Users/robertbozsik/opt/miniconda3/envs/boogie_woogie/lib/python3.8/site-packages/scipy/stats/stats.py:1534: UserWarning: kurtosistest only valid for n>=20 ... continuing anyway, n=11\n",
      "  warnings.warn(\"kurtosistest only valid for n>=20 ... continuing \"\n"
     ]
    },
    {
     "data": {
      "text/html": [
       "<table class=\"simpletable\">\n",
       "<caption>OLS Regression Results</caption>\n",
       "<tr>\n",
       "  <th>Dep. Variable:</th>    <td>days_of_recovery</td> <th>  R-squared:         </th> <td>   0.966</td>\n",
       "</tr>\n",
       "<tr>\n",
       "  <th>Model:</th>                   <td>OLS</td>       <th>  Adj. R-squared:    </th> <td>   0.957</td>\n",
       "</tr>\n",
       "<tr>\n",
       "  <th>Method:</th>             <td>Least Squares</td>  <th>  F-statistic:       </th> <td>   112.0</td>\n",
       "</tr>\n",
       "<tr>\n",
       "  <th>Date:</th>             <td>Thu, 09 Jul 2020</td> <th>  Prob (F-statistic):</th> <td>1.41e-06</td>\n",
       "</tr>\n",
       "<tr>\n",
       "  <th>Time:</th>                 <td>19:55:02</td>     <th>  Log-Likelihood:    </th> <td> -82.825</td>\n",
       "</tr>\n",
       "<tr>\n",
       "  <th>No. Observations:</th>      <td>    11</td>      <th>  AIC:               </th> <td>   171.7</td>\n",
       "</tr>\n",
       "<tr>\n",
       "  <th>Df Residuals:</th>          <td>     8</td>      <th>  BIC:               </th> <td>   172.8</td>\n",
       "</tr>\n",
       "<tr>\n",
       "  <th>Df Model:</th>              <td>     2</td>      <th>                     </th>     <td> </td>   \n",
       "</tr>\n",
       "<tr>\n",
       "  <th>Covariance Type:</th>      <td>nonrobust</td>    <th>                     </th>     <td> </td>   \n",
       "</tr>\n",
       "</table>\n",
       "<table class=\"simpletable\">\n",
       "<tr>\n",
       "            <td></td>              <th>coef</th>     <th>std err</th>      <th>t</th>      <th>P>|t|</th>  <th>[0.025</th>    <th>0.975]</th>  \n",
       "</tr>\n",
       "<tr>\n",
       "  <th>const</th>                <td> 1291.2289</td> <td>  882.574</td> <td>    1.463</td> <td> 0.182</td> <td> -743.990</td> <td> 3326.447</td>\n",
       "</tr>\n",
       "<tr>\n",
       "  <th>abs_percentage_loss</th>  <td>-7675.4029</td> <td> 4036.166</td> <td>   -1.902</td> <td> 0.094</td> <td> -1.7e+04</td> <td> 1632.012</td>\n",
       "</tr>\n",
       "<tr>\n",
       "  <th>abs_per_loss_squared</th> <td> 1.927e+04</td> <td> 3902.543</td> <td>    4.939</td> <td> 0.001</td> <td> 1.03e+04</td> <td> 2.83e+04</td>\n",
       "</tr>\n",
       "</table>\n",
       "<table class=\"simpletable\">\n",
       "<tr>\n",
       "  <th>Omnibus:</th>       <td> 7.809</td> <th>  Durbin-Watson:     </th> <td>   1.787</td>\n",
       "</tr>\n",
       "<tr>\n",
       "  <th>Prob(Omnibus):</th> <td> 0.020</td> <th>  Jarque-Bera (JB):  </th> <td>   3.274</td>\n",
       "</tr>\n",
       "<tr>\n",
       "  <th>Skew:</th>          <td>-1.129</td> <th>  Prob(JB):          </th> <td>   0.195</td>\n",
       "</tr>\n",
       "<tr>\n",
       "  <th>Kurtosis:</th>      <td> 4.429</td> <th>  Cond. No.          </th> <td>    38.8</td>\n",
       "</tr>\n",
       "</table><br/><br/>Warnings:<br/>[1] Standard Errors assume that the covariance matrix of the errors is correctly specified."
      ],
      "text/plain": [
       "<class 'statsmodels.iolib.summary.Summary'>\n",
       "\"\"\"\n",
       "                            OLS Regression Results                            \n",
       "==============================================================================\n",
       "Dep. Variable:       days_of_recovery   R-squared:                       0.966\n",
       "Model:                            OLS   Adj. R-squared:                  0.957\n",
       "Method:                 Least Squares   F-statistic:                     112.0\n",
       "Date:                Thu, 09 Jul 2020   Prob (F-statistic):           1.41e-06\n",
       "Time:                        19:55:02   Log-Likelihood:                -82.825\n",
       "No. Observations:                  11   AIC:                             171.7\n",
       "Df Residuals:                       8   BIC:                             172.8\n",
       "Df Model:                           2                                         \n",
       "Covariance Type:            nonrobust                                         \n",
       "========================================================================================\n",
       "                           coef    std err          t      P>|t|      [0.025      0.975]\n",
       "----------------------------------------------------------------------------------------\n",
       "const                 1291.2289    882.574      1.463      0.182    -743.990    3326.447\n",
       "abs_percentage_loss  -7675.4029   4036.166     -1.902      0.094    -1.7e+04    1632.012\n",
       "abs_per_loss_squared  1.927e+04   3902.543      4.939      0.001    1.03e+04    2.83e+04\n",
       "==============================================================================\n",
       "Omnibus:                        7.809   Durbin-Watson:                   1.787\n",
       "Prob(Omnibus):                  0.020   Jarque-Bera (JB):                3.274\n",
       "Skew:                          -1.129   Prob(JB):                        0.195\n",
       "Kurtosis:                       4.429   Cond. No.                         38.8\n",
       "==============================================================================\n",
       "\n",
       "Warnings:\n",
       "[1] Standard Errors assume that the covariance matrix of the errors is correctly specified.\n",
       "\"\"\""
      ]
     },
     "execution_count": 81,
     "metadata": {},
     "output_type": "execute_result"
    }
   ],
   "source": [
    "y = all_recessions_df['days_of_recovery']\n",
    "X = all_recessions_df[['const', 'abs_percentage_loss', 'abs_per_loss_squared']]\n",
    "\n",
    "quad_reg_model = sm.OLS(y,X)\n",
    "results_q = quad_reg_model.fit()\n",
    "results_q.summary()"
   ]
  },
  {
   "cell_type": "markdown",
   "metadata": {},
   "source": [
    "### Plot the results"
   ]
  },
  {
   "cell_type": "code",
   "execution_count": 82,
   "metadata": {},
   "outputs": [],
   "source": [
    "predictions2 = results_q.predict(X)"
   ]
  },
  {
   "cell_type": "code",
   "execution_count": 83,
   "metadata": {},
   "outputs": [
    {
     "data": {
      "text/html": [
       "<div>\n",
       "<style scoped>\n",
       "    .dataframe tbody tr th:only-of-type {\n",
       "        vertical-align: middle;\n",
       "    }\n",
       "\n",
       "    .dataframe tbody tr th {\n",
       "        vertical-align: top;\n",
       "    }\n",
       "\n",
       "    .dataframe thead th {\n",
       "        text-align: right;\n",
       "    }\n",
       "</style>\n",
       "<table border=\"1\" class=\"dataframe\">\n",
       "  <thead>\n",
       "    <tr style=\"text-align: right;\">\n",
       "      <th></th>\n",
       "      <th>const</th>\n",
       "      <th>year</th>\n",
       "      <th>start_date</th>\n",
       "      <th>lowest_date</th>\n",
       "      <th>end_date</th>\n",
       "      <th>start_price</th>\n",
       "      <th>lowest_price</th>\n",
       "      <th>end_price</th>\n",
       "      <th>days_of_recovery</th>\n",
       "      <th>months_of_recovery</th>\n",
       "      <th>years_of_recovery</th>\n",
       "      <th>abs_percentage_loss</th>\n",
       "      <th>pred_days_of_recovery1</th>\n",
       "      <th>abs_per_loss_squared</th>\n",
       "      <th>pred_days_of_recovery2</th>\n",
       "    </tr>\n",
       "  </thead>\n",
       "  <tbody>\n",
       "    <tr>\n",
       "      <th>10</th>\n",
       "      <td>1.0</td>\n",
       "      <td>1929</td>\n",
       "      <td>1929-09-16</td>\n",
       "      <td>1932-06-01</td>\n",
       "      <td>1954-09-22</td>\n",
       "      <td>31.860001</td>\n",
       "      <td>4.400000</td>\n",
       "      <td>32.000000</td>\n",
       "      <td>9137.0</td>\n",
       "      <td>300.195076</td>\n",
       "      <td>25.016256</td>\n",
       "      <td>0.861896</td>\n",
       "      <td>7510.297780</td>\n",
       "      <td>0.742864</td>\n",
       "      <td>8994.091923</td>\n",
       "    </tr>\n",
       "    <tr>\n",
       "      <th>9</th>\n",
       "      <td>1.0</td>\n",
       "      <td>1956</td>\n",
       "      <td>1956-08-02</td>\n",
       "      <td>1957-10-22</td>\n",
       "      <td>1958-09-24</td>\n",
       "      <td>49.639999</td>\n",
       "      <td>38.980000</td>\n",
       "      <td>49.779999</td>\n",
       "      <td>783.0</td>\n",
       "      <td>25.725374</td>\n",
       "      <td>2.143781</td>\n",
       "      <td>0.214746</td>\n",
       "      <td>-142.690394</td>\n",
       "      <td>0.046116</td>\n",
       "      <td>531.821902</td>\n",
       "    </tr>\n",
       "    <tr>\n",
       "      <th>8</th>\n",
       "      <td>1.0</td>\n",
       "      <td>1961</td>\n",
       "      <td>1961-12-12</td>\n",
       "      <td>1962-06-26</td>\n",
       "      <td>1963-09-03</td>\n",
       "      <td>72.639999</td>\n",
       "      <td>52.320000</td>\n",
       "      <td>72.660004</td>\n",
       "      <td>630.0</td>\n",
       "      <td>20.698577</td>\n",
       "      <td>1.724881</td>\n",
       "      <td>0.279736</td>\n",
       "      <td>625.855190</td>\n",
       "      <td>0.078252</td>\n",
       "      <td>652.405707</td>\n",
       "    </tr>\n",
       "    <tr>\n",
       "      <th>7</th>\n",
       "      <td>1.0</td>\n",
       "      <td>1966</td>\n",
       "      <td>1966-02-09</td>\n",
       "      <td>1966-10-07</td>\n",
       "      <td>1967-05-04</td>\n",
       "      <td>94.059998</td>\n",
       "      <td>73.199997</td>\n",
       "      <td>94.320000</td>\n",
       "      <td>449.0</td>\n",
       "      <td>14.751843</td>\n",
       "      <td>1.229320</td>\n",
       "      <td>0.221773</td>\n",
       "      <td>-59.588997</td>\n",
       "      <td>0.049183</td>\n",
       "      <td>537.009701</td>\n",
       "    </tr>\n",
       "    <tr>\n",
       "      <th>6</th>\n",
       "      <td>1.0</td>\n",
       "      <td>1968</td>\n",
       "      <td>1968-11-29</td>\n",
       "      <td>1970-05-26</td>\n",
       "      <td>1972-03-06</td>\n",
       "      <td>108.370003</td>\n",
       "      <td>69.290001</td>\n",
       "      <td>108.769997</td>\n",
       "      <td>1193.0</td>\n",
       "      <td>39.195877</td>\n",
       "      <td>3.266323</td>\n",
       "      <td>0.360616</td>\n",
       "      <td>1582.325417</td>\n",
       "      <td>0.130044</td>\n",
       "      <td>1029.875771</td>\n",
       "    </tr>\n",
       "    <tr>\n",
       "      <th>5</th>\n",
       "      <td>1.0</td>\n",
       "      <td>1973</td>\n",
       "      <td>1973-01-11</td>\n",
       "      <td>1974-10-03</td>\n",
       "      <td>1980-07-17</td>\n",
       "      <td>120.239998</td>\n",
       "      <td>62.279999</td>\n",
       "      <td>121.440002</td>\n",
       "      <td>2744.0</td>\n",
       "      <td>90.153802</td>\n",
       "      <td>7.512817</td>\n",
       "      <td>0.482036</td>\n",
       "      <td>3018.194394</td>\n",
       "      <td>0.232359</td>\n",
       "      <td>2069.980860</td>\n",
       "    </tr>\n",
       "    <tr>\n",
       "      <th>4</th>\n",
       "      <td>1.0</td>\n",
       "      <td>1980</td>\n",
       "      <td>1980-11-28</td>\n",
       "      <td>1982-08-12</td>\n",
       "      <td>1982-11-03</td>\n",
       "      <td>140.520004</td>\n",
       "      <td>102.419998</td>\n",
       "      <td>142.869995</td>\n",
       "      <td>705.0</td>\n",
       "      <td>23.162693</td>\n",
       "      <td>1.930224</td>\n",
       "      <td>0.271136</td>\n",
       "      <td>524.155991</td>\n",
       "      <td>0.073515</td>\n",
       "      <td>627.102252</td>\n",
       "    </tr>\n",
       "    <tr>\n",
       "      <th>3</th>\n",
       "      <td>1.0</td>\n",
       "      <td>1987</td>\n",
       "      <td>1987-08-25</td>\n",
       "      <td>1987-12-04</td>\n",
       "      <td>1989-07-26</td>\n",
       "      <td>336.769989</td>\n",
       "      <td>223.919998</td>\n",
       "      <td>338.049988</td>\n",
       "      <td>701.0</td>\n",
       "      <td>23.031274</td>\n",
       "      <td>1.919273</td>\n",
       "      <td>0.335095</td>\n",
       "      <td>1280.518995</td>\n",
       "      <td>0.112289</td>\n",
       "      <td>883.536446</td>\n",
       "    </tr>\n",
       "    <tr>\n",
       "      <th>2</th>\n",
       "      <td>1.0</td>\n",
       "      <td>1990</td>\n",
       "      <td>1990-07-16</td>\n",
       "      <td>1990-10-11</td>\n",
       "      <td>1991-02-13</td>\n",
       "      <td>368.950012</td>\n",
       "      <td>295.459991</td>\n",
       "      <td>369.019989</td>\n",
       "      <td>212.0</td>\n",
       "      <td>6.965235</td>\n",
       "      <td>0.580436</td>\n",
       "      <td>0.199187</td>\n",
       "      <td>-326.688890</td>\n",
       "      <td>0.039675</td>\n",
       "      <td>527.108911</td>\n",
       "    </tr>\n",
       "    <tr>\n",
       "      <th>1</th>\n",
       "      <td>1.0</td>\n",
       "      <td>2000</td>\n",
       "      <td>2000-03-24</td>\n",
       "      <td>2002-10-09</td>\n",
       "      <td>2007-05-30</td>\n",
       "      <td>1527.459961</td>\n",
       "      <td>776.760010</td>\n",
       "      <td>1530.229980</td>\n",
       "      <td>2623.0</td>\n",
       "      <td>86.178361</td>\n",
       "      <td>7.181530</td>\n",
       "      <td>0.491469</td>\n",
       "      <td>3129.752602</td>\n",
       "      <td>0.241542</td>\n",
       "      <td>2174.583129</td>\n",
       "    </tr>\n",
       "    <tr>\n",
       "      <th>0</th>\n",
       "      <td>1.0</td>\n",
       "      <td>2007</td>\n",
       "      <td>2007-10-09</td>\n",
       "      <td>2009-03-09</td>\n",
       "      <td>2013-03-28</td>\n",
       "      <td>1565.150024</td>\n",
       "      <td>676.530029</td>\n",
       "      <td>1569.189941</td>\n",
       "      <td>1997.0</td>\n",
       "      <td>65.611204</td>\n",
       "      <td>5.467600</td>\n",
       "      <td>0.567754</td>\n",
       "      <td>4031.867913</td>\n",
       "      <td>0.322344</td>\n",
       "      <td>3146.483398</td>\n",
       "    </tr>\n",
       "  </tbody>\n",
       "</table>\n",
       "</div>"
      ],
      "text/plain": [
       "    const  year  start_date lowest_date    end_date  start_price  \\\n",
       "10    1.0  1929  1929-09-16  1932-06-01  1954-09-22    31.860001   \n",
       "9     1.0  1956  1956-08-02  1957-10-22  1958-09-24    49.639999   \n",
       "8     1.0  1961  1961-12-12  1962-06-26  1963-09-03    72.639999   \n",
       "7     1.0  1966  1966-02-09  1966-10-07  1967-05-04    94.059998   \n",
       "6     1.0  1968  1968-11-29  1970-05-26  1972-03-06   108.370003   \n",
       "5     1.0  1973  1973-01-11  1974-10-03  1980-07-17   120.239998   \n",
       "4     1.0  1980  1980-11-28  1982-08-12  1982-11-03   140.520004   \n",
       "3     1.0  1987  1987-08-25  1987-12-04  1989-07-26   336.769989   \n",
       "2     1.0  1990  1990-07-16  1990-10-11  1991-02-13   368.950012   \n",
       "1     1.0  2000  2000-03-24  2002-10-09  2007-05-30  1527.459961   \n",
       "0     1.0  2007  2007-10-09  2009-03-09  2013-03-28  1565.150024   \n",
       "\n",
       "    lowest_price    end_price  days_of_recovery  months_of_recovery  \\\n",
       "10      4.400000    32.000000            9137.0          300.195076   \n",
       "9      38.980000    49.779999             783.0           25.725374   \n",
       "8      52.320000    72.660004             630.0           20.698577   \n",
       "7      73.199997    94.320000             449.0           14.751843   \n",
       "6      69.290001   108.769997            1193.0           39.195877   \n",
       "5      62.279999   121.440002            2744.0           90.153802   \n",
       "4     102.419998   142.869995             705.0           23.162693   \n",
       "3     223.919998   338.049988             701.0           23.031274   \n",
       "2     295.459991   369.019989             212.0            6.965235   \n",
       "1     776.760010  1530.229980            2623.0           86.178361   \n",
       "0     676.530029  1569.189941            1997.0           65.611204   \n",
       "\n",
       "    years_of_recovery  abs_percentage_loss  pred_days_of_recovery1  \\\n",
       "10          25.016256             0.861896             7510.297780   \n",
       "9            2.143781             0.214746             -142.690394   \n",
       "8            1.724881             0.279736              625.855190   \n",
       "7            1.229320             0.221773              -59.588997   \n",
       "6            3.266323             0.360616             1582.325417   \n",
       "5            7.512817             0.482036             3018.194394   \n",
       "4            1.930224             0.271136              524.155991   \n",
       "3            1.919273             0.335095             1280.518995   \n",
       "2            0.580436             0.199187             -326.688890   \n",
       "1            7.181530             0.491469             3129.752602   \n",
       "0            5.467600             0.567754             4031.867913   \n",
       "\n",
       "    abs_per_loss_squared  pred_days_of_recovery2  \n",
       "10              0.742864             8994.091923  \n",
       "9               0.046116              531.821902  \n",
       "8               0.078252              652.405707  \n",
       "7               0.049183              537.009701  \n",
       "6               0.130044             1029.875771  \n",
       "5               0.232359             2069.980860  \n",
       "4               0.073515              627.102252  \n",
       "3               0.112289              883.536446  \n",
       "2               0.039675              527.108911  \n",
       "1               0.241542             2174.583129  \n",
       "0               0.322344             3146.483398  "
      ]
     },
     "execution_count": 83,
     "metadata": {},
     "output_type": "execute_result"
    }
   ],
   "source": [
    "all_recessions_df = all_recessions_df.assign(pred_days_of_recovery2=predictions2)\n",
    "all_recessions_df = all_recessions_df.sort_values(by=['start_date'])\n",
    "all_recessions_df"
   ]
  },
  {
   "cell_type": "markdown",
   "metadata": {},
   "source": [
    "**Save the new DataFrame**"
   ]
  },
  {
   "cell_type": "code",
   "execution_count": 84,
   "metadata": {},
   "outputs": [],
   "source": [
    "all_recessions_df.to_csv('Data/all_recessions_with_predictions_df.csv', index=None)"
   ]
  },
  {
   "cell_type": "code",
   "execution_count": 85,
   "metadata": {},
   "outputs": [
    {
     "data": {
      "text/html": [
       "<div>\n",
       "<style scoped>\n",
       "    .dataframe tbody tr th:only-of-type {\n",
       "        vertical-align: middle;\n",
       "    }\n",
       "\n",
       "    .dataframe tbody tr th {\n",
       "        vertical-align: top;\n",
       "    }\n",
       "\n",
       "    .dataframe thead th {\n",
       "        text-align: right;\n",
       "    }\n",
       "</style>\n",
       "<table border=\"1\" class=\"dataframe\">\n",
       "  <thead>\n",
       "    <tr style=\"text-align: right;\">\n",
       "      <th></th>\n",
       "      <th>const</th>\n",
       "      <th>year</th>\n",
       "      <th>start_date</th>\n",
       "      <th>lowest_date</th>\n",
       "      <th>end_date</th>\n",
       "      <th>start_price</th>\n",
       "      <th>lowest_price</th>\n",
       "      <th>end_price</th>\n",
       "      <th>days_of_recovery</th>\n",
       "      <th>months_of_recovery</th>\n",
       "      <th>years_of_recovery</th>\n",
       "      <th>abs_percentage_loss</th>\n",
       "      <th>pred_days_of_recovery1</th>\n",
       "      <th>abs_per_loss_squared</th>\n",
       "      <th>pred_days_of_recovery2</th>\n",
       "    </tr>\n",
       "  </thead>\n",
       "  <tbody>\n",
       "    <tr>\n",
       "      <th>0</th>\n",
       "      <td>1.0</td>\n",
       "      <td>1929</td>\n",
       "      <td>1929-09-16</td>\n",
       "      <td>1932-06-01</td>\n",
       "      <td>1954-09-22</td>\n",
       "      <td>31.860001</td>\n",
       "      <td>4.400000</td>\n",
       "      <td>32.000000</td>\n",
       "      <td>9137.0</td>\n",
       "      <td>300.195076</td>\n",
       "      <td>25.016256</td>\n",
       "      <td>0.861896</td>\n",
       "      <td>7510.297780</td>\n",
       "      <td>0.742864</td>\n",
       "      <td>8994.091923</td>\n",
       "    </tr>\n",
       "    <tr>\n",
       "      <th>1</th>\n",
       "      <td>1.0</td>\n",
       "      <td>1956</td>\n",
       "      <td>1956-08-02</td>\n",
       "      <td>1957-10-22</td>\n",
       "      <td>1958-09-24</td>\n",
       "      <td>49.639999</td>\n",
       "      <td>38.980000</td>\n",
       "      <td>49.779999</td>\n",
       "      <td>783.0</td>\n",
       "      <td>25.725374</td>\n",
       "      <td>2.143781</td>\n",
       "      <td>0.214746</td>\n",
       "      <td>-142.690394</td>\n",
       "      <td>0.046116</td>\n",
       "      <td>531.821902</td>\n",
       "    </tr>\n",
       "    <tr>\n",
       "      <th>2</th>\n",
       "      <td>1.0</td>\n",
       "      <td>1961</td>\n",
       "      <td>1961-12-12</td>\n",
       "      <td>1962-06-26</td>\n",
       "      <td>1963-09-03</td>\n",
       "      <td>72.639999</td>\n",
       "      <td>52.320000</td>\n",
       "      <td>72.660004</td>\n",
       "      <td>630.0</td>\n",
       "      <td>20.698577</td>\n",
       "      <td>1.724881</td>\n",
       "      <td>0.279736</td>\n",
       "      <td>625.855190</td>\n",
       "      <td>0.078252</td>\n",
       "      <td>652.405707</td>\n",
       "    </tr>\n",
       "    <tr>\n",
       "      <th>3</th>\n",
       "      <td>1.0</td>\n",
       "      <td>1966</td>\n",
       "      <td>1966-02-09</td>\n",
       "      <td>1966-10-07</td>\n",
       "      <td>1967-05-04</td>\n",
       "      <td>94.059998</td>\n",
       "      <td>73.199997</td>\n",
       "      <td>94.320000</td>\n",
       "      <td>449.0</td>\n",
       "      <td>14.751843</td>\n",
       "      <td>1.229320</td>\n",
       "      <td>0.221773</td>\n",
       "      <td>-59.588997</td>\n",
       "      <td>0.049183</td>\n",
       "      <td>537.009701</td>\n",
       "    </tr>\n",
       "    <tr>\n",
       "      <th>4</th>\n",
       "      <td>1.0</td>\n",
       "      <td>1968</td>\n",
       "      <td>1968-11-29</td>\n",
       "      <td>1970-05-26</td>\n",
       "      <td>1972-03-06</td>\n",
       "      <td>108.370003</td>\n",
       "      <td>69.290001</td>\n",
       "      <td>108.769997</td>\n",
       "      <td>1193.0</td>\n",
       "      <td>39.195877</td>\n",
       "      <td>3.266323</td>\n",
       "      <td>0.360616</td>\n",
       "      <td>1582.325417</td>\n",
       "      <td>0.130044</td>\n",
       "      <td>1029.875771</td>\n",
       "    </tr>\n",
       "  </tbody>\n",
       "</table>\n",
       "</div>"
      ],
      "text/plain": [
       "   const  year  start_date lowest_date    end_date  start_price  lowest_price  \\\n",
       "0    1.0  1929  1929-09-16  1932-06-01  1954-09-22    31.860001      4.400000   \n",
       "1    1.0  1956  1956-08-02  1957-10-22  1958-09-24    49.639999     38.980000   \n",
       "2    1.0  1961  1961-12-12  1962-06-26  1963-09-03    72.639999     52.320000   \n",
       "3    1.0  1966  1966-02-09  1966-10-07  1967-05-04    94.059998     73.199997   \n",
       "4    1.0  1968  1968-11-29  1970-05-26  1972-03-06   108.370003     69.290001   \n",
       "\n",
       "    end_price  days_of_recovery  months_of_recovery  years_of_recovery  \\\n",
       "0   32.000000            9137.0          300.195076          25.016256   \n",
       "1   49.779999             783.0           25.725374           2.143781   \n",
       "2   72.660004             630.0           20.698577           1.724881   \n",
       "3   94.320000             449.0           14.751843           1.229320   \n",
       "4  108.769997            1193.0           39.195877           3.266323   \n",
       "\n",
       "   abs_percentage_loss  pred_days_of_recovery1  abs_per_loss_squared  \\\n",
       "0             0.861896             7510.297780              0.742864   \n",
       "1             0.214746             -142.690394              0.046116   \n",
       "2             0.279736              625.855190              0.078252   \n",
       "3             0.221773              -59.588997              0.049183   \n",
       "4             0.360616             1582.325417              0.130044   \n",
       "\n",
       "   pred_days_of_recovery2  \n",
       "0             8994.091923  \n",
       "1              531.821902  \n",
       "2              652.405707  \n",
       "3              537.009701  \n",
       "4             1029.875771  "
      ]
     },
     "execution_count": 85,
     "metadata": {},
     "output_type": "execute_result"
    }
   ],
   "source": [
    "check = pd.read_csv('Data/all_recessions_with_predictions_df.csv')\n",
    "check.head()"
   ]
  },
  {
   "cell_type": "code",
   "execution_count": 86,
   "metadata": {},
   "outputs": [
    {
     "data": {
      "text/html": [
       "<div>\n",
       "<style scoped>\n",
       "    .dataframe tbody tr th:only-of-type {\n",
       "        vertical-align: middle;\n",
       "    }\n",
       "\n",
       "    .dataframe tbody tr th {\n",
       "        vertical-align: top;\n",
       "    }\n",
       "\n",
       "    .dataframe thead th {\n",
       "        text-align: right;\n",
       "    }\n",
       "</style>\n",
       "<table border=\"1\" class=\"dataframe\">\n",
       "  <thead>\n",
       "    <tr style=\"text-align: right;\">\n",
       "      <th></th>\n",
       "      <th>const</th>\n",
       "      <th>year</th>\n",
       "      <th>start_date</th>\n",
       "      <th>lowest_date</th>\n",
       "      <th>end_date</th>\n",
       "      <th>start_price</th>\n",
       "      <th>lowest_price</th>\n",
       "      <th>end_price</th>\n",
       "      <th>days_of_recovery</th>\n",
       "      <th>months_of_recovery</th>\n",
       "      <th>years_of_recovery</th>\n",
       "      <th>abs_percentage_loss</th>\n",
       "      <th>pred_days_of_recovery1</th>\n",
       "      <th>abs_per_loss_squared</th>\n",
       "      <th>pred_days_of_recovery2</th>\n",
       "    </tr>\n",
       "  </thead>\n",
       "  <tbody>\n",
       "    <tr>\n",
       "      <th>2</th>\n",
       "      <td>1.0</td>\n",
       "      <td>1990</td>\n",
       "      <td>1990-07-16</td>\n",
       "      <td>1990-10-11</td>\n",
       "      <td>1991-02-13</td>\n",
       "      <td>368.950012</td>\n",
       "      <td>295.459991</td>\n",
       "      <td>369.019989</td>\n",
       "      <td>212.0</td>\n",
       "      <td>6.965235</td>\n",
       "      <td>0.580436</td>\n",
       "      <td>0.199187</td>\n",
       "      <td>-326.688890</td>\n",
       "      <td>0.039675</td>\n",
       "      <td>527.108911</td>\n",
       "    </tr>\n",
       "    <tr>\n",
       "      <th>9</th>\n",
       "      <td>1.0</td>\n",
       "      <td>1956</td>\n",
       "      <td>1956-08-02</td>\n",
       "      <td>1957-10-22</td>\n",
       "      <td>1958-09-24</td>\n",
       "      <td>49.639999</td>\n",
       "      <td>38.980000</td>\n",
       "      <td>49.779999</td>\n",
       "      <td>783.0</td>\n",
       "      <td>25.725374</td>\n",
       "      <td>2.143781</td>\n",
       "      <td>0.214746</td>\n",
       "      <td>-142.690394</td>\n",
       "      <td>0.046116</td>\n",
       "      <td>531.821902</td>\n",
       "    </tr>\n",
       "    <tr>\n",
       "      <th>7</th>\n",
       "      <td>1.0</td>\n",
       "      <td>1966</td>\n",
       "      <td>1966-02-09</td>\n",
       "      <td>1966-10-07</td>\n",
       "      <td>1967-05-04</td>\n",
       "      <td>94.059998</td>\n",
       "      <td>73.199997</td>\n",
       "      <td>94.320000</td>\n",
       "      <td>449.0</td>\n",
       "      <td>14.751843</td>\n",
       "      <td>1.229320</td>\n",
       "      <td>0.221773</td>\n",
       "      <td>-59.588997</td>\n",
       "      <td>0.049183</td>\n",
       "      <td>537.009701</td>\n",
       "    </tr>\n",
       "    <tr>\n",
       "      <th>4</th>\n",
       "      <td>1.0</td>\n",
       "      <td>1980</td>\n",
       "      <td>1980-11-28</td>\n",
       "      <td>1982-08-12</td>\n",
       "      <td>1982-11-03</td>\n",
       "      <td>140.520004</td>\n",
       "      <td>102.419998</td>\n",
       "      <td>142.869995</td>\n",
       "      <td>705.0</td>\n",
       "      <td>23.162693</td>\n",
       "      <td>1.930224</td>\n",
       "      <td>0.271136</td>\n",
       "      <td>524.155991</td>\n",
       "      <td>0.073515</td>\n",
       "      <td>627.102252</td>\n",
       "    </tr>\n",
       "    <tr>\n",
       "      <th>8</th>\n",
       "      <td>1.0</td>\n",
       "      <td>1961</td>\n",
       "      <td>1961-12-12</td>\n",
       "      <td>1962-06-26</td>\n",
       "      <td>1963-09-03</td>\n",
       "      <td>72.639999</td>\n",
       "      <td>52.320000</td>\n",
       "      <td>72.660004</td>\n",
       "      <td>630.0</td>\n",
       "      <td>20.698577</td>\n",
       "      <td>1.724881</td>\n",
       "      <td>0.279736</td>\n",
       "      <td>625.855190</td>\n",
       "      <td>0.078252</td>\n",
       "      <td>652.405707</td>\n",
       "    </tr>\n",
       "  </tbody>\n",
       "</table>\n",
       "</div>"
      ],
      "text/plain": [
       "   const  year  start_date lowest_date    end_date  start_price  lowest_price  \\\n",
       "2    1.0  1990  1990-07-16  1990-10-11  1991-02-13   368.950012    295.459991   \n",
       "9    1.0  1956  1956-08-02  1957-10-22  1958-09-24    49.639999     38.980000   \n",
       "7    1.0  1966  1966-02-09  1966-10-07  1967-05-04    94.059998     73.199997   \n",
       "4    1.0  1980  1980-11-28  1982-08-12  1982-11-03   140.520004    102.419998   \n",
       "8    1.0  1961  1961-12-12  1962-06-26  1963-09-03    72.639999     52.320000   \n",
       "\n",
       "    end_price  days_of_recovery  months_of_recovery  years_of_recovery  \\\n",
       "2  369.019989             212.0            6.965235           0.580436   \n",
       "9   49.779999             783.0           25.725374           2.143781   \n",
       "7   94.320000             449.0           14.751843           1.229320   \n",
       "4  142.869995             705.0           23.162693           1.930224   \n",
       "8   72.660004             630.0           20.698577           1.724881   \n",
       "\n",
       "   abs_percentage_loss  pred_days_of_recovery1  abs_per_loss_squared  \\\n",
       "2             0.199187             -326.688890              0.039675   \n",
       "9             0.214746             -142.690394              0.046116   \n",
       "7             0.221773              -59.588997              0.049183   \n",
       "4             0.271136              524.155991              0.073515   \n",
       "8             0.279736              625.855190              0.078252   \n",
       "\n",
       "   pred_days_of_recovery2  \n",
       "2              527.108911  \n",
       "9              531.821902  \n",
       "7              537.009701  \n",
       "4              627.102252  \n",
       "8              652.405707  "
      ]
     },
     "execution_count": 86,
     "metadata": {},
     "output_type": "execute_result"
    }
   ],
   "source": [
    "all_recessions_df = all_recessions_df.sort_values(by=['abs_percentage_loss'])\n",
    "all_recessions_df.head()"
   ]
  },
  {
   "cell_type": "code",
   "execution_count": 87,
   "metadata": {},
   "outputs": [
    {
     "data": {
      "image/png": "[encoded data removed]",
      "text/plain": [
       "<Figure size 720x432 with 1 Axes>"
      ]
     },
     "metadata": {},
     "output_type": "display_data"
    }
   ],
   "source": [
    "all_recessions_df.plot(kind='scatter', x='abs_percentage_loss', y='days_of_recovery', figsize=(10,6))\n",
    "plt.plot(all_recessions_df['abs_percentage_loss'], all_recessions_df['pred_days_of_recovery2'], color='green')\n",
    "plt.title(f'S&P 500 Absolute Percentage Losses vs. Days of Recovery');"
   ]
  },
  {
   "cell_type": "markdown",
   "metadata": {},
   "source": [
    "### Make a prediction for the days of recovery of S&P 500 in the Covid-19 situation "
   ]
  },
  {
   "cell_type": "markdown",
   "metadata": {},
   "source": [
    "**prediction 2 (with the polynomial regression model)**"
   ]
  },
  {
   "cell_type": "markdown",
   "metadata": {},
   "source": [
    "$y = b_0 + b_1 * x_1 + b_2 * x_1^2$"
   ]
  },
  {
   "cell_type": "code",
   "execution_count": 88,
   "metadata": {},
   "outputs": [
    {
     "data": {
      "text/plain": [
       "const                    1291.228920\n",
       "abs_percentage_loss     -7675.402894\n",
       "abs_per_loss_squared    19274.394004\n",
       "dtype: float64"
      ]
     },
     "execution_count": 88,
     "metadata": {},
     "output_type": "execute_result"
    }
   ],
   "source": [
    "results_q.params"
   ]
  },
  {
   "cell_type": "code",
   "execution_count": 89,
   "metadata": {},
   "outputs": [
    {
     "data": {
      "text/plain": [
       "1291.2289201771305"
      ]
     },
     "execution_count": 89,
     "metadata": {},
     "output_type": "execute_result"
    }
   ],
   "source": [
    "beta0 = results_q.params[0] # intercept\n",
    "beta0"
   ]
  },
  {
   "cell_type": "code",
   "execution_count": 90,
   "metadata": {},
   "outputs": [
    {
     "data": {
      "text/plain": [
       "-7675.402893600094"
      ]
     },
     "execution_count": 90,
     "metadata": {},
     "output_type": "execute_result"
    }
   ],
   "source": [
    "beta1 = results_q.params[1]\n",
    "beta1"
   ]
  },
  {
   "cell_type": "code",
   "execution_count": 91,
   "metadata": {},
   "outputs": [
    {
     "data": {
      "text/plain": [
       "19274.39400442835"
      ]
     },
     "execution_count": 91,
     "metadata": {},
     "output_type": "execute_result"
    }
   ],
   "source": [
    "beta2 = results_q.params[2]\n",
    "beta2"
   ]
  },
  {
   "cell_type": "code",
   "execution_count": 92,
   "metadata": {},
   "outputs": [],
   "source": [
    "def quad_reg_model(x):\n",
    "    y = beta0 + beta1 * x + beta2 * x**2\n",
    "    return y"
   ]
  },
  {
   "cell_type": "code",
   "execution_count": 93,
   "metadata": {},
   "outputs": [
    {
     "data": {
      "text/plain": [
       "904.2999726296093"
      ]
     },
     "execution_count": 93,
     "metadata": {},
     "output_type": "execute_result"
    }
   ],
   "source": [
    "covid_recovery = quad_reg_model(0.339)\n",
    "covid_recovery"
   ]
  },
  {
   "cell_type": "code",
   "execution_count": 98,
   "metadata": {},
   "outputs": [
    {
     "data": {
      "text/plain": [
       "Timestamp('2020-02-19 00:00:00')"
      ]
     },
     "execution_count": 98,
     "metadata": {},
     "output_type": "execute_result"
    }
   ],
   "source": [
    "covid_start = pd.to_datetime('2020-02-19')\n",
    "covid_start"
   ]
  },
  {
   "cell_type": "code",
   "execution_count": 99,
   "metadata": {},
   "outputs": [
    {
     "data": {
      "text/plain": [
       "Timestamp('2022-08-11 07:11:57.635198')"
      ]
     },
     "execution_count": 99,
     "metadata": {},
     "output_type": "execute_result"
    }
   ],
   "source": [
    "covid_end = covid_start + timedelta(days=covid_recovery)\n",
    "covid_end"
   ]
  },
  {
   "cell_type": "code",
   "execution_count": 101,
   "metadata": {},
   "outputs": [
    {
     "name": "stderr",
     "output_type": "stream",
     "text": [
      "<ipython-input-101-bc3ab38d15cd>:1: UserWarning: Boolean Series key will be reindexed to match DataFrame index.\n",
      "  end = sp500.loc[start_date:][sp500['Adj Close'] > start_price].reset_index().head(1)\n"
     ]
    },
    {
     "data": {
      "text/plain": [
       "'2007-05-21'"
      ]
     },
     "execution_count": 101,
     "metadata": {},
     "output_type": "execute_result"
    }
   ],
   "source": [
    "end = sp500.loc[start_date:][sp500['Adj Close'] > start_price].reset_index().head(1)\n",
    "end_date = end['Date'].dt.strftime('%Y-%m-%d')\n",
    "end_date = end_date[0]\n",
    "end_date"
   ]
  },
  {
   "cell_type": "code",
   "execution_count": 110,
   "metadata": {},
   "outputs": [
    {
     "data": {
      "text/plain": [
       "'2020-02-19'"
      ]
     },
     "execution_count": 110,
     "metadata": {},
     "output_type": "execute_result"
    }
   ],
   "source": [
    "covid_start_string = f'{str(covid_start.year)}-0{str(covid_start.month)}-{str(covid_start.day)}'\n",
    "covid_start_string"
   ]
  },
  {
   "cell_type": "code",
   "execution_count": 111,
   "metadata": {},
   "outputs": [
    {
     "data": {
      "text/plain": [
       "'2022-08-11'"
      ]
     },
     "execution_count": 111,
     "metadata": {},
     "output_type": "execute_result"
    }
   ],
   "source": [
    "covid_end_string = f'{str(covid_end.year)}-0{str(covid_end.month)}-{str(covid_end.day)}'\n",
    "covid_end_string"
   ]
  },
  {
   "cell_type": "code",
   "execution_count": 116,
   "metadata": {},
   "outputs": [
    {
     "name": "stdout",
     "output_type": "stream",
     "text": [
      "Based on our model (Adj. R-squared: 0.957) the recovery of the S&P 500 stock price recession will take: \n",
      " - in days: 904.3 days, \n",
      " - in months: 30.14 months, \n",
      " - in years: 2.48 years.\n",
      "The recession started on 2020-02-19 and will last until 2022-08-11.\n",
      "Save the date! :)\n",
      "Silviu & Robert\n"
     ]
    }
   ],
   "source": [
    "print(f'''Based on our model (Adj. R-squared: 0.957) the recovery of the S&P 500 stock price recession will take: \n",
    " - in days: {round(covid_recovery, 2)} days, \n",
    " - in months: {round(covid_recovery / 30, 2)} months, \n",
    " - in years: {round(covid_recovery / 365, 2)} years.\n",
    "The recession started on {covid_start_string} and will last until {covid_end_string}.\n",
    "Save the date! :)\n",
    "Silviu & Robert''')"
   ]
  },
  {
   "cell_type": "code",
   "execution_count": null,
   "metadata": {},
   "outputs": [],
   "source": []
  }
 ],
 "metadata": {
  "kernelspec": {
   "display_name": "Python 3",
   "language": "python",
   "name": "python3"
  },
  "language_info": {
   "codemirror_mode": {
    "name": "ipython",
    "version": 3
   },
   "file_extension": ".py",
   "mimetype": "text/x-python",
   "name": "python",
   "nbconvert_exporter": "python",
   "pygments_lexer": "ipython3",
   "version": "3.8.3"
  }
 },
 "nbformat": 4,
 "nbformat_minor": 4
}
